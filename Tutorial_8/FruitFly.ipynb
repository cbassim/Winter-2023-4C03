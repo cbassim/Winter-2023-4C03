{
 "cells": [
  {
   "cell_type": "markdown",
   "id": "9a6754c2-64c1-4528-857c-2e63514b03e7",
   "metadata": {},
   "source": [
    "# Correlation and Simple Linear Regression Tutorial\n",
    "Learning Objectives\n",
    "* Calculate a correlation coefficient\n",
    "* Use the non-parametric Spearman's correaltion\n",
    "* Estimate the intervept and slopes of regression models using ordinary least squares\n",
    "* Test regression models\n",
    "* Plot regression lines\n",
    "* Examine residual plots for deviations from the assumptions of linear regression"
   ]
  },
  {
   "cell_type": "code",
   "execution_count": 3,
   "id": "b983a835-38ef-44ea-998c-58cb98aa7a70",
   "metadata": {},
   "outputs": [
    {
     "name": "stdin",
     "output_type": "stream",
     "text": [
      "Once deleted, variables cannot be recovered. Proceed (y/[n])?  y\n"
     ]
    }
   ],
   "source": [
    "%reset\n",
    "import numpy as np\n",
    "import pandas as pd\n",
    "import matplotlib.pyplot as plt\n",
    "import seaborn as sns\n",
    "import scipy\n",
    "from scipy import stats\n",
    "from scipy.stats import norm\n",
    "import statsmodels.api as sm"
   ]
  },
  {
   "cell_type": "code",
   "execution_count": 4,
   "id": "fec7f75f-18b0-430e-8ec9-4c632f590c8b",
   "metadata": {},
   "outputs": [
    {
     "data": {
      "text/html": [
       "<div>\n",
       "<style scoped>\n",
       "    .dataframe tbody tr th:only-of-type {\n",
       "        vertical-align: middle;\n",
       "    }\n",
       "\n",
       "    .dataframe tbody tr th {\n",
       "        vertical-align: top;\n",
       "    }\n",
       "\n",
       "    .dataframe thead th {\n",
       "        text-align: right;\n",
       "    }\n",
       "</style>\n",
       "<table border=\"1\" class=\"dataframe\">\n",
       "  <thead>\n",
       "    <tr style=\"text-align: right;\">\n",
       "      <th></th>\n",
       "      <th>fatherTelomere</th>\n",
       "      <th>offspringLifespan</th>\n",
       "    </tr>\n",
       "  </thead>\n",
       "  <tbody>\n",
       "    <tr>\n",
       "      <th>0</th>\n",
       "      <td>0.35</td>\n",
       "      <td>-0.32</td>\n",
       "    </tr>\n",
       "    <tr>\n",
       "      <th>1</th>\n",
       "      <td>0.03</td>\n",
       "      <td>-0.03</td>\n",
       "    </tr>\n",
       "    <tr>\n",
       "      <th>2</th>\n",
       "      <td>0.14</td>\n",
       "      <td>0.11</td>\n",
       "    </tr>\n",
       "    <tr>\n",
       "      <th>3</th>\n",
       "      <td>0.10</td>\n",
       "      <td>0.28</td>\n",
       "    </tr>\n",
       "    <tr>\n",
       "      <th>4</th>\n",
       "      <td>0.22</td>\n",
       "      <td>0.31</td>\n",
       "    </tr>\n",
       "    <tr>\n",
       "      <th>5</th>\n",
       "      <td>0.23</td>\n",
       "      <td>0.18</td>\n",
       "    </tr>\n",
       "    <tr>\n",
       "      <th>6</th>\n",
       "      <td>0.30</td>\n",
       "      <td>0.29</td>\n",
       "    </tr>\n",
       "    <tr>\n",
       "      <th>7</th>\n",
       "      <td>0.32</td>\n",
       "      <td>0.27</td>\n",
       "    </tr>\n",
       "    <tr>\n",
       "      <th>8</th>\n",
       "      <td>0.31</td>\n",
       "      <td>0.19</td>\n",
       "    </tr>\n",
       "    <tr>\n",
       "      <th>9</th>\n",
       "      <td>0.31</td>\n",
       "      <td>0.12</td>\n",
       "    </tr>\n",
       "    <tr>\n",
       "      <th>10</th>\n",
       "      <td>0.39</td>\n",
       "      <td>0.04</td>\n",
       "    </tr>\n",
       "    <tr>\n",
       "      <th>11</th>\n",
       "      <td>0.33</td>\n",
       "      <td>-0.08</td>\n",
       "    </tr>\n",
       "    <tr>\n",
       "      <th>12</th>\n",
       "      <td>0.56</td>\n",
       "      <td>-0.11</td>\n",
       "    </tr>\n",
       "    <tr>\n",
       "      <th>13</th>\n",
       "      <td>0.67</td>\n",
       "      <td>0.15</td>\n",
       "    </tr>\n",
       "    <tr>\n",
       "      <th>14</th>\n",
       "      <td>0.58</td>\n",
       "      <td>0.18</td>\n",
       "    </tr>\n",
       "    <tr>\n",
       "      <th>15</th>\n",
       "      <td>1.01</td>\n",
       "      <td>0.55</td>\n",
       "    </tr>\n",
       "    <tr>\n",
       "      <th>16</th>\n",
       "      <td>0.93</td>\n",
       "      <td>0.81</td>\n",
       "    </tr>\n",
       "    <tr>\n",
       "      <th>17</th>\n",
       "      <td>0.62</td>\n",
       "      <td>0.48</td>\n",
       "    </tr>\n",
       "    <tr>\n",
       "      <th>18</th>\n",
       "      <td>0.65</td>\n",
       "      <td>0.46</td>\n",
       "    </tr>\n",
       "    <tr>\n",
       "      <th>19</th>\n",
       "      <td>0.52</td>\n",
       "      <td>0.41</td>\n",
       "    </tr>\n",
       "    <tr>\n",
       "      <th>20</th>\n",
       "      <td>0.48</td>\n",
       "      <td>0.40</td>\n",
       "    </tr>\n",
       "    <tr>\n",
       "      <th>21</th>\n",
       "      <td>0.42</td>\n",
       "      <td>0.44</td>\n",
       "    </tr>\n",
       "    <tr>\n",
       "      <th>22</th>\n",
       "      <td>0.46</td>\n",
       "      <td>0.50</td>\n",
       "    </tr>\n",
       "    <tr>\n",
       "      <th>23</th>\n",
       "      <td>0.49</td>\n",
       "      <td>0.64</td>\n",
       "    </tr>\n",
       "    <tr>\n",
       "      <th>24</th>\n",
       "      <td>0.35</td>\n",
       "      <td>0.61</td>\n",
       "    </tr>\n",
       "    <tr>\n",
       "      <th>25</th>\n",
       "      <td>0.38</td>\n",
       "      <td>0.77</td>\n",
       "    </tr>\n",
       "    <tr>\n",
       "      <th>26</th>\n",
       "      <td>0.45</td>\n",
       "      <td>0.83</td>\n",
       "    </tr>\n",
       "    <tr>\n",
       "      <th>27</th>\n",
       "      <td>0.45</td>\n",
       "      <td>0.80</td>\n",
       "    </tr>\n",
       "    <tr>\n",
       "      <th>28</th>\n",
       "      <td>0.45</td>\n",
       "      <td>0.80</td>\n",
       "    </tr>\n",
       "    <tr>\n",
       "      <th>29</th>\n",
       "      <td>0.47</td>\n",
       "      <td>0.98</td>\n",
       "    </tr>\n",
       "    <tr>\n",
       "      <th>30</th>\n",
       "      <td>0.54</td>\n",
       "      <td>0.97</td>\n",
       "    </tr>\n",
       "    <tr>\n",
       "      <th>31</th>\n",
       "      <td>0.61</td>\n",
       "      <td>0.96</td>\n",
       "    </tr>\n",
       "    <tr>\n",
       "      <th>32</th>\n",
       "      <td>0.61</td>\n",
       "      <td>0.93</td>\n",
       "    </tr>\n",
       "    <tr>\n",
       "      <th>33</th>\n",
       "      <td>0.83</td>\n",
       "      <td>1.19</td>\n",
       "    </tr>\n",
       "    <tr>\n",
       "      <th>34</th>\n",
       "      <td>0.99</td>\n",
       "      <td>1.20</td>\n",
       "    </tr>\n",
       "    <tr>\n",
       "      <th>35</th>\n",
       "      <td>1.12</td>\n",
       "      <td>1.23</td>\n",
       "    </tr>\n",
       "  </tbody>\n",
       "</table>\n",
       "</div>"
      ],
      "text/plain": [
       "    fatherTelomere  offspringLifespan\n",
       "0             0.35              -0.32\n",
       "1             0.03              -0.03\n",
       "2             0.14               0.11\n",
       "3             0.10               0.28\n",
       "4             0.22               0.31\n",
       "5             0.23               0.18\n",
       "6             0.30               0.29\n",
       "7             0.32               0.27\n",
       "8             0.31               0.19\n",
       "9             0.31               0.12\n",
       "10            0.39               0.04\n",
       "11            0.33              -0.08\n",
       "12            0.56              -0.11\n",
       "13            0.67               0.15\n",
       "14            0.58               0.18\n",
       "15            1.01               0.55\n",
       "16            0.93               0.81\n",
       "17            0.62               0.48\n",
       "18            0.65               0.46\n",
       "19            0.52               0.41\n",
       "20            0.48               0.40\n",
       "21            0.42               0.44\n",
       "22            0.46               0.50\n",
       "23            0.49               0.64\n",
       "24            0.35               0.61\n",
       "25            0.38               0.77\n",
       "26            0.45               0.83\n",
       "27            0.45               0.80\n",
       "28            0.45               0.80\n",
       "29            0.47               0.98\n",
       "30            0.54               0.97\n",
       "31            0.61               0.96\n",
       "32            0.61               0.93\n",
       "33            0.83               1.19\n",
       "34            0.99               1.20\n",
       "35            1.12               1.23"
      ]
     },
     "execution_count": 4,
     "metadata": {},
     "output_type": "execute_result"
    }
   ],
   "source": [
    "fruitfly=pd.read_csv('FruitFly.csv')\n",
    "fruitfly"
   ]
  },
  {
   "cell_type": "code",
   "execution_count": 5,
   "id": "f78f344b-12d7-4233-a8e7-ec0283e75d6d",
   "metadata": {},
   "outputs": [
    {
     "data": {
      "text/plain": [
       "<AxesSubplot:xlabel='fatherTelomere', ylabel='offspringLifespan'>"
      ]
     },
     "execution_count": 5,
     "metadata": {},
     "output_type": "execute_result"
    },
    {
     "data": {
      "image/png": "[encoded data removed]",
      "text/plain": [
       "<Figure size 432x288 with 1 Axes>"
      ]
     },
     "metadata": {
      "needs_background": "light"
     },
     "output_type": "display_data"
    }
   ],
   "source": [
    "sns.scatterplot(x=\"fatherTelomere\",y=\"offspringLifespan\",data=fruitfly)"
   ]
  },
  {
   "cell_type": "code",
   "execution_count": 6,
   "id": "276bd63a-a7e9-48f0-9ea7-65c81f8f56aa",
   "metadata": {},
   "outputs": [
    {
     "data": {
      "text/plain": [
       "<seaborn.axisgrid.JointGrid at 0x1ded4283490>"
      ]
     },
     "execution_count": 6,
     "metadata": {},
     "output_type": "execute_result"
    },
    {
     "data": {
      "image/png": "[encoded data removed]",
      "text/plain": [
       "<Figure size 432x432 with 3 Axes>"
      ]
     },
     "metadata": {
      "needs_background": "light"
     },
     "output_type": "display_data"
    }
   ],
   "source": [
    "sns.jointplot(x=\"fatherTelomere\",y=\"offspringLifespan\",data=fruitfly)"
   ]
  },
  {
   "cell_type": "code",
   "execution_count": 7,
   "id": "8e05828c-7f4f-4b6c-81cd-7c52439145e3",
   "metadata": {},
   "outputs": [
    {
     "data": {
      "text/plain": [
       "(0.6141042561630583, 6.783713628564802e-05)"
      ]
     },
     "execution_count": 7,
     "metadata": {},
     "output_type": "execute_result"
    }
   ],
   "source": [
    "stats.pearsonr(x=fruitfly[\"fatherTelomere\"],y=fruitfly[\"offspringLifespan\"])"
   ]
  },
  {
   "cell_type": "code",
   "execution_count": 8,
   "id": "2274d874-4157-43e1-8e46-81fd9eaaff1b",
   "metadata": {},
   "outputs": [
    {
     "data": {
      "text/plain": [
       "SpearmanrResult(correlation=0.579228669511785, pvalue=0.0002143521595948664)"
      ]
     },
     "execution_count": 8,
     "metadata": {},
     "output_type": "execute_result"
    }
   ],
   "source": [
    "stats.spearmanr(fruitfly[\"fatherTelomere\"],fruitfly[\"offspringLifespan\"])"
   ]
  },
  {
   "cell_type": "markdown",
   "id": "aebaedbf-4653-41ec-850e-cace680b3f21",
   "metadata": {},
   "source": [
    "Let's explore the normality of the 2 variables.  Normality of the variables is not required, but it is a good idea to get a feel for the distribution of the variables."
   ]
  },
  {
   "cell_type": "code",
   "execution_count": 9,
   "id": "ee710cfb-bd8c-4e52-8fdf-9ef42883dcb6",
   "metadata": {},
   "outputs": [
    {
     "data": {
      "text/plain": [
       "ShapiroResult(statistic=0.9489876627922058, pvalue=0.09717478603124619)"
      ]
     },
     "execution_count": 9,
     "metadata": {},
     "output_type": "execute_result"
    }
   ],
   "source": [
    "stats.shapiro(fruitfly[\"fatherTelomere\"])"
   ]
  },
  {
   "cell_type": "code",
   "execution_count": 10,
   "id": "e53e5a88-675b-4ef6-a82c-e084ac0e4ba6",
   "metadata": {
    "tags": []
   },
   "outputs": [
    {
     "data": {
      "text/plain": [
       "ShapiroResult(statistic=0.9736367464065552, pvalue=0.5328620076179504)"
      ]
     },
     "execution_count": 10,
     "metadata": {},
     "output_type": "execute_result"
    }
   ],
   "source": [
    "stats.shapiro(fruitfly[\"offspringLifespan\"])"
   ]
  },
  {
   "cell_type": "markdown",
   "id": "fa1ed571-f986-4280-a90b-212d871c3092",
   "metadata": {},
   "source": [
    "# Fit a Simple Linear Regression Model\n",
    "\n",
    "We will now fit a SLR model to the data.  We will use linear regression to regress the outcome (y, dependent value) of offspringLifespan on the predictor (x, regressor, explainatory or independent value) of fatherTelemere length.  \n",
    "\n",
    "In our data set we have y as the dependent variable, and x as the independent variable. We will first analyze how our model performs using just the x variable to predict y (regress y on x).  This is simple linear regression.\n",
    "\n",
    "Regression models can be built in python using the from statsmodels.formula.api library, which contains an ols class. The ols class takes as input a DataFrame as well as a string expression indicating which form the regression model should take based on the column names of the dataframe. The general format is \"dependent_var_col_name ~ independent_var1_col_name + independent_var2_col_name + ...\".\n",
    "\n",
    "The ols command create the ols model object while the .fit() command computes the regression model and returns the model results. Let's see what's contained in the results of the model when we print out the summary results."
   ]
  },
  {
   "cell_type": "code",
   "execution_count": 11,
   "id": "9596cec9-dddb-45a7-bba9-5e0b8403e5ac",
   "metadata": {},
   "outputs": [
    {
     "name": "stdout",
     "output_type": "stream",
     "text": [
      "                            OLS Regression Results                            \n",
      "==============================================================================\n",
      "Dep. Variable:                      y   R-squared:                       0.377\n",
      "Model:                            OLS   Adj. R-squared:                  0.359\n",
      "Method:                 Least Squares   F-statistic:                     20.59\n",
      "Date:                Wed, 16 Mar 2022   Prob (F-statistic):           6.78e-05\n",
      "Time:                        06:53:47   Log-Likelihood:                -9.1679\n",
      "No. Observations:                  36   AIC:                             22.34\n",
      "Df Residuals:                      34   BIC:                             25.50\n",
      "Df Model:                           1                                         \n",
      "Covariance Type:            nonrobust                                         \n",
      "==============================================================================\n",
      "                 coef    std err          t      P>|t|      [0.025      0.975]\n",
      "------------------------------------------------------------------------------\n",
      "Intercept      0.0051      0.119      0.043      0.966      -0.237       0.247\n",
      "x              0.9823      0.216      4.537      0.000       0.542       1.422\n",
      "==============================================================================\n",
      "Omnibus:                        1.585   Durbin-Watson:                   0.238\n",
      "Prob(Omnibus):                  0.453   Jarque-Bera (JB):                1.466\n",
      "Skew:                          -0.383   Prob(JB):                        0.481\n",
      "Kurtosis:                       2.374   Cond. No.                         5.07\n",
      "==============================================================================\n",
      "\n",
      "Notes:\n",
      "[1] Standard Errors assume that the covariance matrix of the errors is correctly specified.\n"
     ]
    }
   ],
   "source": [
    "from statsmodels.formula.api import ols\n",
    "import statsmodels.api as sm\n",
    "import matplotlib.pyplot as plt\n",
    "#fit the simple linear regression model\n",
    "model=ols('y~x',{'x':fruitfly[\"fatherTelomere\"],'y':fruitfly[\"offspringLifespan\"]})\n",
    "results=model.fit()\n",
    "print(results.summary())"
   ]
  },
  {
   "cell_type": "code",
   "execution_count": 12,
   "id": "97985860-cfd0-4ca5-8e84-d811ed65b852",
   "metadata": {},
   "outputs": [
    {
     "name": "stdout",
     "output_type": "stream",
     "text": [
      "                            OLS Regression Results                            \n",
      "==============================================================================\n",
      "Dep. Variable:      offspringLifespan   R-squared:                       0.377\n",
      "Model:                            OLS   Adj. R-squared:                  0.359\n",
      "Method:                 Least Squares   F-statistic:                     20.59\n",
      "Date:                Wed, 16 Mar 2022   Prob (F-statistic):           6.78e-05\n",
      "Time:                        06:53:48   Log-Likelihood:                -9.1679\n",
      "No. Observations:                  36   AIC:                             22.34\n",
      "Df Residuals:                      34   BIC:                             25.50\n",
      "Df Model:                           1                                         \n",
      "Covariance Type:            nonrobust                                         \n",
      "==================================================================================\n",
      "                     coef    std err          t      P>|t|      [0.025      0.975]\n",
      "----------------------------------------------------------------------------------\n",
      "Intercept          0.0051      0.119      0.043      0.966      -0.237       0.247\n",
      "fatherTelomere     0.9823      0.216      4.537      0.000       0.542       1.422\n",
      "==============================================================================\n",
      "Omnibus:                        1.585   Durbin-Watson:                   0.238\n",
      "Prob(Omnibus):                  0.453   Jarque-Bera (JB):                1.466\n",
      "Skew:                          -0.383   Prob(JB):                        0.481\n",
      "Kurtosis:                       2.374   Cond. No.                         5.07\n",
      "==============================================================================\n",
      "\n",
      "Notes:\n",
      "[1] Standard Errors assume that the covariance matrix of the errors is correctly specified.\n"
     ]
    }
   ],
   "source": [
    "model=ols(\"offspringLifespan~fatherTelomere\",data=fruitfly)\n",
    "results=model.fit()\n",
    "print(results.summary())"
   ]
  },
  {
   "cell_type": "markdown",
   "id": "e7cd0f52-6f80-48b2-9912-9dca7e40726c",
   "metadata": {},
   "source": [
    "In this example:\n",
    "* The intercept term (b0) = 0.0051\n",
    "* The slope term (b1) = 0.9823.  This is the estimate of the slope of the regression line.  This implies that on average a unit increase in x (fatherTelomere length) results in an increase of y (offspringLifespan days) of 0.9823 units\n",
    "* The t-value for the intercept term is -4.537 - Python calls this the t-value because it comes from the t-distribution.\n",
    "* The 95% confidence interval for the slope term are \\[0.542,  1.422\\].\n",
    "* The confidence interval does not cross zero meaning that zero is not a plausible value for the coefficients. x therefore significantly impacts the value of y.\n",
    "* The $R^2$ value is 0.377\n",
    "\n",
    "Note that for Simple Linear Regression, $r^2$ is equal to $R^2$ \\\n",
    "r= 0.6141 \\\n",
    "$R^2$ is the coefficient of detrmination and is the proportion of variation in the dependent variable that is predicted from the independent variables.  It will be reviewed in detail when we discuss goodness of the model fit.  The value of 0.377 means that the model (here our one predictor variable) explains 37.7% of the variability in our outcome.  \n",
    "\n",
    "The standard error ad the p-value for the predictor is provided.  Here we can see that the p-value for the null hypothesis that the true population slope is 0 is very low, less than 0.001.  \n",
    "\n",
    "The best fit of the line fitted to this data is:  \\\n",
    "offspringLifespan = 0.0051 + (0.9823*fatherTelomere)"
   ]
  },
  {
   "cell_type": "markdown",
   "id": "85ea1947-17a5-4459-a902-a964b6a3998f",
   "metadata": {},
   "source": [
    "The top of the summary gives the OLS Regression Results with some model statistics.  A main one here is the $R^2$ value.  \n",
    "\n",
    "The next part of the summary provides the coefficients for the fitted line.  The intercept is if all predcitor variables were at 0; it is the b0 or a in the fitted line and is the constant added to explain the stating point for the line.  The x coef provides the measurement of how the change in that variable affects the dependent variable and is the b or m in the fitted line."
   ]
  },
  {
   "cell_type": "markdown",
   "id": "9bd06641-696e-454b-bfed-6011f648abee",
   "metadata": {},
   "source": [
    "Create and interpret the anova table. Let's investigate the results in more detail by checking the ANOVA table. ANOVA related methods can be found in the `statsmodels.stats.anova` library in the `anova_lm` class.\n",
    "\n",
    "Interpret the F test, the and work through finding the F ratio from the anova results. \n",
    "\n",
    "Calculate the coefficiect of deterination from the ANOVA table."
   ]
  },
  {
   "cell_type": "code",
   "execution_count": 13,
   "id": "f55ccbd0-3f01-48b4-bbd3-7bff00c2daf8",
   "metadata": {},
   "outputs": [
    {
     "name": "stdout",
     "output_type": "stream",
     "text": [
      "                  df    sum_sq   mean_sq          F    PR(>F)\n",
      "fatherTelomere   1.0  2.123782  2.123782  20.585507  0.000068\n",
      "Residual        34.0  3.507740  0.103169        NaN       NaN\n"
     ]
    }
   ],
   "source": [
    "from statsmodels.stats.anova import anova_lm\n",
    "anova_results = anova_lm(results)\n",
    "print(anova_results)"
   ]
  },
  {
   "cell_type": "markdown",
   "id": "0b2e8c2e-97e3-4847-89f4-64dc3dde8f48",
   "metadata": {},
   "source": [
    "A key additional piece of information we haven't got yet is the standard error of the model. The `scale` parameter of the model results provides the mean squared error, as does the anova table.  \n",
    "\n",
    "What is the standard error of the model, and what does it tell you?\n",
    "\n",
    "Note that you can find the attributes of your results obhect that you have made in the ols model by calling the attribute.  You cn list these by calling its directory through:  dir(results1)\n",
    "\n",
    "See that one of these is the .scale attribute"
   ]
  },
  {
   "cell_type": "code",
   "execution_count": 14,
   "id": "3cd1814d-fb0e-4496-a87e-a57ed54a6655",
   "metadata": {},
   "outputs": [
    {
     "name": "stdout",
     "output_type": "stream",
     "text": [
      "The model mean squared error is: 0.10316881837818552\n",
      "The model standard error is: 0.32119903234316494\n"
     ]
    }
   ],
   "source": [
    "mean_squared_error = results.scale\n",
    "print(\"The model mean squared error is: \" +str(mean_squared_error))\n",
    "print(\"The model standard error is: \" + str(np.sqrt(mean_squared_error)))"
   ]
  },
  {
   "cell_type": "code",
   "execution_count": null,
   "id": "bdebced6-eb56-445a-8b09-97e7c0f0a65f",
   "metadata": {},
   "outputs": [],
   "source": []
  },
  {
   "cell_type": "markdown",
   "id": "ea4429ad-2059-40eb-a477-ba1ac4afc3ad",
   "metadata": {
    "jp-MarkdownHeadingCollapsed": true,
    "tags": []
   },
   "source": [
    "# Assumptions of SLR Review\n",
    "\n",
    "L:  Linear relationship assumed.  The mean of the response varaibles in a linear combination of the parameters (regression coefficients) and predcitor variables.  Models have to be linear in the parameters. \n",
    "\n",
    "I:  Independence of residuals:  Observations are independent of each other. Errors should be uncorrealted (No autocorrelation) which can often occur with time series data or other dependent datasets.  \n",
    "\n",
    "N:  Normality:  Normal distribution of the residuals.  The resdiuals have a normal distribution conditional of the regressors (predictors).   \n",
    "\n",
    "E:  Equal variance of the residuals.  This equality of the variance of the residuals is also called homoscedasticity.  The variance of the residuals is the same for any value of the predictor.\n"
   ]
  },
  {
   "cell_type": "markdown",
   "id": "186e5e8f-a983-4780-8c90-89d379e86815",
   "metadata": {},
   "source": [
    "# Residual (error) review"
   ]
  },
  {
   "cell_type": "markdown",
   "id": "e44e82ad-8b94-407c-b3fe-3096875ccf01",
   "metadata": {},
   "source": [
    "We will calculate the prediction and the errors and review these.  First we will plot the predictor against the actual y value and the fitted line.  This gives us some idea of the linerarity and the residual behavior. "
   ]
  },
  {
   "cell_type": "code",
   "execution_count": 15,
   "id": "72f3a53a-6e5c-4047-b396-016ba4032a28",
   "metadata": {},
   "outputs": [
    {
     "name": "stderr",
     "output_type": "stream",
     "text": [
      "C:\\Users\\nabil\\anaconda3\\lib\\site-packages\\seaborn\\_decorators.py:36: FutureWarning: Pass the following variables as keyword args: x, y. From version 0.12, the only valid positional argument will be `data`, and passing other arguments without an explicit keyword will result in an error or misinterpretation.\n",
      "  warnings.warn(\n",
      "C:\\Users\\nabil\\anaconda3\\lib\\site-packages\\seaborn\\_decorators.py:36: FutureWarning: Pass the following variables as keyword args: x, y. From version 0.12, the only valid positional argument will be `data`, and passing other arguments without an explicit keyword will result in an error or misinterpretation.\n",
      "  warnings.warn(\n"
     ]
    },
    {
     "data": {
      "image/png": "[encoded data removed]",
      "text/plain": [
       "<Figure size 432x288 with 1 Axes>"
      ]
     },
     "metadata": {
      "needs_background": "light"
     },
     "output_type": "display_data"
    }
   ],
   "source": [
    "# Calculate the predictions and errors based on the model\n",
    "y_pred=0.0051+0.9823*fruitfly[\"fatherTelomere\"]\n",
    "y_value=fruitfly[\"offspringLifespan\"]\n",
    "error=y_value-y_pred\n",
    "ax=sns.scatterplot(fruitfly[\"fatherTelomere\"],fruitfly[\"offspringLifespan\"])\n",
    "ax=sns.scatterplot(fruitfly[\"fatherTelomere\"],y_pred)"
   ]
  },
  {
   "cell_type": "markdown",
   "id": "3c0f58e2-8ca1-4861-95c2-eb8ba8c5d843",
   "metadata": {},
   "source": [
    "Next we will look at the predicton and the residuals.  We can see if the errors are scattered above and below the 0 line randomly or if they have a shape that could mean that linearity is not met.  This also shows that the variance of the resduals is fairly equal across values of the predctor, checking the assumption of equal variance of the errors (the errors are fairly equal below and above the 0 line).  We can also scan for any independence issues to see if there is correlation in the residuals.  "
   ]
  },
  {
   "cell_type": "code",
   "execution_count": 16,
   "id": "2befe0ae-d12e-43d9-ad33-fac5959be058",
   "metadata": {},
   "outputs": [
    {
     "name": "stderr",
     "output_type": "stream",
     "text": [
      "C:\\Users\\nabil\\anaconda3\\lib\\site-packages\\seaborn\\_decorators.py:36: FutureWarning: Pass the following variables as keyword args: x, y. From version 0.12, the only valid positional argument will be `data`, and passing other arguments without an explicit keyword will result in an error or misinterpretation.\n",
      "  warnings.warn(\n"
     ]
    },
    {
     "data": {
      "text/plain": [
       "<matplotlib.collections.LineCollection at 0x1ded99cb0d0>"
      ]
     },
     "execution_count": 16,
     "metadata": {},
     "output_type": "execute_result"
    },
    {
     "data": {
      "image/png": "[encoded data removed]",
      "text/plain": [
       "<Figure size 432x288 with 1 Axes>"
      ]
     },
     "metadata": {
      "needs_background": "light"
     },
     "output_type": "display_data"
    }
   ],
   "source": [
    "sns.scatterplot(fruitfly[\"fatherTelomere\"],error)\n",
    "plt.hlines(0,0,1.2,color='red')"
   ]
  },
  {
   "cell_type": "markdown",
   "id": "206ad133-b5ca-47e9-bcfd-ca40266014ea",
   "metadata": {},
   "source": [
    "You can call the statsmodels graphics call for plot_regress_exog as in the exmpale below to see several linera regression diagnostic plots easily. You can see the top two are equivalent to the ones we produced.  "
   ]
  },
  {
   "cell_type": "code",
   "execution_count": 17,
   "id": "72224ebd-0b8d-4c53-a0f6-a1e8c6647415",
   "metadata": {},
   "outputs": [
    {
     "data": {
      "image/png": "[encoded data removed]",
      "text/plain": [
       "<Figure size 864x576 with 4 Axes>"
      ]
     },
     "metadata": {
      "needs_background": "light"
     },
     "output_type": "display_data"
    }
   ],
   "source": [
    "fig=plt.figure(figsize=(12,8))\n",
    "fig=sm.graphics.plot_regress_exog(results,'fatherTelomere',fig=fig)"
   ]
  },
  {
   "cell_type": "markdown",
   "id": "c4a8a08b-92de-4d6f-85ff-33b9e2528a67",
   "metadata": {},
   "source": [
    "Checking for the normality of the errors, we can look at the resiudals on a qplot against a normal distribution, plot the histogram of the erros, or run a test of normality with the residuals to make sure that this assumption is met.\n",
    "\n",
    "The residuals are kept in an array conatining the difference between the observed y adn the values of fitted y predicted by the linear model.  You can use these directly from our results from the regression ols model that we fitted above.  "
   ]
  },
  {
   "cell_type": "code",
   "execution_count": 18,
   "id": "9b8f870d-fe66-4b48-a5ed-50013a471ff6",
   "metadata": {},
   "outputs": [
    {
     "name": "stderr",
     "output_type": "stream",
     "text": [
      "C:\\Users\\nabil\\anaconda3\\lib\\site-packages\\statsmodels\\graphics\\gofplots.py:993: UserWarning: marker is redundantly defined by the 'marker' keyword argument and the fmt string \"bo\" (-> marker='o'). The keyword argument will take precedence.\n",
      "  ax.plot(x, y, fmt, **plot_style)\n"
     ]
    },
    {
     "data": {
      "image/png": "[encoded data removed]",
      "text/plain": [
       "<Figure size 432x288 with 1 Axes>"
      ]
     },
     "metadata": {
      "needs_background": "light"
     },
     "output_type": "display_data"
    }
   ],
   "source": [
    "sm.qqplot(results.resid,line='s')\n",
    "plt.show()"
   ]
  },
  {
   "cell_type": "code",
   "execution_count": 19,
   "id": "cb70065a-4577-4acc-b4ab-982c09e1a1a6",
   "metadata": {},
   "outputs": [
    {
     "data": {
      "text/plain": [
       "<AxesSubplot:ylabel='Density'>"
      ]
     },
     "execution_count": 19,
     "metadata": {},
     "output_type": "execute_result"
    },
    {
     "data": {
      "image/png": "[encoded data removed]",
      "text/plain": [
       "<Figure size 432x288 with 1 Axes>"
      ]
     },
     "metadata": {
      "needs_background": "light"
     },
     "output_type": "display_data"
    }
   ],
   "source": [
    "sns.histplot(x=results.resid, stat='density',kde=True)"
   ]
  },
  {
   "cell_type": "code",
   "execution_count": 20,
   "id": "3433ad7e-c4cd-470b-98c9-d837aba04e04",
   "metadata": {},
   "outputs": [
    {
     "data": {
      "text/plain": [
       "ShapiroResult(statistic=0.9564460515975952, pvalue=0.16669777035713196)"
      ]
     },
     "execution_count": 20,
     "metadata": {},
     "output_type": "execute_result"
    }
   ],
   "source": [
    "stats.shapiro(results.resid)"
   ]
  },
  {
   "cell_type": "markdown",
   "id": "2a07fde5-18db-477a-aac0-ca52c34d74f4",
   "metadata": {},
   "source": [
    "Let's plot the data and the linear regression fitted line directly throgh regplot.  We can see the 95% CI of the regression estimate."
   ]
  },
  {
   "cell_type": "code",
   "execution_count": 21,
   "id": "ac61352c-1202-4d12-b592-df5a7971e465",
   "metadata": {},
   "outputs": [
    {
     "name": "stderr",
     "output_type": "stream",
     "text": [
      "C:\\Users\\nabil\\anaconda3\\lib\\site-packages\\seaborn\\_decorators.py:36: FutureWarning: Pass the following variables as keyword args: x, y. From version 0.12, the only valid positional argument will be `data`, and passing other arguments without an explicit keyword will result in an error or misinterpretation.\n",
      "  warnings.warn(\n"
     ]
    },
    {
     "data": {
      "text/plain": [
       "<AxesSubplot:xlabel='fatherTelomere', ylabel='offspringLifespan'>"
      ]
     },
     "execution_count": 21,
     "metadata": {},
     "output_type": "execute_result"
    },
    {
     "data": {
      "image/png": "[encoded data removed]",
      "text/plain": [
       "<Figure size 432x288 with 1 Axes>"
      ]
     },
     "metadata": {
      "needs_background": "light"
     },
     "output_type": "display_data"
    }
   ],
   "source": [
    "#Plot data and the linear regression model fit\n",
    "# 95% CI for the regression estimate\n",
    "sns.regplot(fruitfly[\"fatherTelomere\"],fruitfly[\"offspringLifespan\"],fit_reg=True,ci=95)"
   ]
  },
  {
   "cell_type": "markdown",
   "id": "8c1b9786-7234-48da-9726-95ad67a95759",
   "metadata": {},
   "source": [
    "# Confidence Intervals and Prediction Intervals"
   ]
  },
  {
   "cell_type": "markdown",
   "id": "44eec1a7-88e1-43b4-b4fe-eb09bfd31aeb",
   "metadata": {},
   "source": [
    "Find the prediction summary for your model"
   ]
  },
  {
   "cell_type": "code",
   "execution_count": 22,
   "id": "8d2b0283-089f-4655-85b4-ce5213444a5c",
   "metadata": {},
   "outputs": [
    {
     "data": {
      "text/html": [
       "<div>\n",
       "<style scoped>\n",
       "    .dataframe tbody tr th:only-of-type {\n",
       "        vertical-align: middle;\n",
       "    }\n",
       "\n",
       "    .dataframe tbody tr th {\n",
       "        vertical-align: top;\n",
       "    }\n",
       "\n",
       "    .dataframe thead th {\n",
       "        text-align: right;\n",
       "    }\n",
       "</style>\n",
       "<table border=\"1\" class=\"dataframe\">\n",
       "  <thead>\n",
       "    <tr style=\"text-align: right;\">\n",
       "      <th></th>\n",
       "      <th>mean</th>\n",
       "      <th>mean_se</th>\n",
       "      <th>mean_ci_lower</th>\n",
       "      <th>mean_ci_upper</th>\n",
       "      <th>obs_ci_lower</th>\n",
       "      <th>obs_ci_upper</th>\n",
       "    </tr>\n",
       "  </thead>\n",
       "  <tbody>\n",
       "    <tr>\n",
       "      <th>0</th>\n",
       "      <td>0.348884</td>\n",
       "      <td>0.061607</td>\n",
       "      <td>0.223683</td>\n",
       "      <td>0.474085</td>\n",
       "      <td>-0.315770</td>\n",
       "      <td>1.013537</td>\n",
       "    </tr>\n",
       "    <tr>\n",
       "      <th>1</th>\n",
       "      <td>0.034552</td>\n",
       "      <td>0.113225</td>\n",
       "      <td>-0.195548</td>\n",
       "      <td>0.264653</td>\n",
       "      <td>-0.657571</td>\n",
       "      <td>0.726676</td>\n",
       "    </tr>\n",
       "    <tr>\n",
       "      <th>2</th>\n",
       "      <td>0.142604</td>\n",
       "      <td>0.092925</td>\n",
       "      <td>-0.046242</td>\n",
       "      <td>0.331450</td>\n",
       "      <td>-0.536919</td>\n",
       "      <td>0.822127</td>\n",
       "    </tr>\n",
       "    <tr>\n",
       "      <th>3</th>\n",
       "      <td>0.103312</td>\n",
       "      <td>0.100128</td>\n",
       "      <td>-0.100171</td>\n",
       "      <td>0.306796</td>\n",
       "      <td>-0.580423</td>\n",
       "      <td>0.787048</td>\n",
       "    </tr>\n",
       "    <tr>\n",
       "      <th>4</th>\n",
       "      <td>0.221187</td>\n",
       "      <td>0.079397</td>\n",
       "      <td>0.059832</td>\n",
       "      <td>0.382541</td>\n",
       "      <td>-0.451215</td>\n",
       "      <td>0.893589</td>\n",
       "    </tr>\n",
       "    <tr>\n",
       "      <th>5</th>\n",
       "      <td>0.231010</td>\n",
       "      <td>0.077812</td>\n",
       "      <td>0.072877</td>\n",
       "      <td>0.389142</td>\n",
       "      <td>-0.440627</td>\n",
       "      <td>0.902646</td>\n",
       "    </tr>\n",
       "    <tr>\n",
       "      <th>6</th>\n",
       "      <td>0.299769</td>\n",
       "      <td>0.067622</td>\n",
       "      <td>0.162345</td>\n",
       "      <td>0.437194</td>\n",
       "      <td>-0.367295</td>\n",
       "      <td>0.966834</td>\n",
       "    </tr>\n",
       "    <tr>\n",
       "      <th>7</th>\n",
       "      <td>0.319415</td>\n",
       "      <td>0.065067</td>\n",
       "      <td>0.187183</td>\n",
       "      <td>0.451647</td>\n",
       "      <td>-0.346599</td>\n",
       "      <td>0.985429</td>\n",
       "    </tr>\n",
       "    <tr>\n",
       "      <th>8</th>\n",
       "      <td>0.309592</td>\n",
       "      <td>0.066322</td>\n",
       "      <td>0.174811</td>\n",
       "      <td>0.444374</td>\n",
       "      <td>-0.356932</td>\n",
       "      <td>0.976117</td>\n",
       "    </tr>\n",
       "    <tr>\n",
       "      <th>9</th>\n",
       "      <td>0.309592</td>\n",
       "      <td>0.066322</td>\n",
       "      <td>0.174811</td>\n",
       "      <td>0.444374</td>\n",
       "      <td>-0.356932</td>\n",
       "      <td>0.976117</td>\n",
       "    </tr>\n",
       "    <tr>\n",
       "      <th>10</th>\n",
       "      <td>0.388175</td>\n",
       "      <td>0.057813</td>\n",
       "      <td>0.270685</td>\n",
       "      <td>0.505666</td>\n",
       "      <td>-0.275069</td>\n",
       "      <td>1.051419</td>\n",
       "    </tr>\n",
       "    <tr>\n",
       "      <th>11</th>\n",
       "      <td>0.329238</td>\n",
       "      <td>0.063861</td>\n",
       "      <td>0.199456</td>\n",
       "      <td>0.459020</td>\n",
       "      <td>-0.336294</td>\n",
       "      <td>0.994770</td>\n",
       "    </tr>\n",
       "    <tr>\n",
       "      <th>12</th>\n",
       "      <td>0.555164</td>\n",
       "      <td>0.055588</td>\n",
       "      <td>0.442195</td>\n",
       "      <td>0.668132</td>\n",
       "      <td>-0.107295</td>\n",
       "      <td>1.217622</td>\n",
       "    </tr>\n",
       "    <tr>\n",
       "      <th>13</th>\n",
       "      <td>0.663215</td>\n",
       "      <td>0.066109</td>\n",
       "      <td>0.528865</td>\n",
       "      <td>0.797565</td>\n",
       "      <td>-0.003223</td>\n",
       "      <td>1.329653</td>\n",
       "    </tr>\n",
       "    <tr>\n",
       "      <th>14</th>\n",
       "      <td>0.574809</td>\n",
       "      <td>0.056908</td>\n",
       "      <td>0.459159</td>\n",
       "      <td>0.690459</td>\n",
       "      <td>-0.088111</td>\n",
       "      <td>1.237730</td>\n",
       "    </tr>\n",
       "    <tr>\n",
       "      <th>15</th>\n",
       "      <td>0.997192</td>\n",
       "      <td>0.124497</td>\n",
       "      <td>0.744184</td>\n",
       "      <td>1.250199</td>\n",
       "      <td>0.297119</td>\n",
       "      <td>1.697265</td>\n",
       "    </tr>\n",
       "    <tr>\n",
       "      <th>16</th>\n",
       "      <td>0.918609</td>\n",
       "      <td>0.109114</td>\n",
       "      <td>0.696863</td>\n",
       "      <td>1.140356</td>\n",
       "      <td>0.229218</td>\n",
       "      <td>1.608001</td>\n",
       "    </tr>\n",
       "    <tr>\n",
       "      <th>17</th>\n",
       "      <td>0.614101</td>\n",
       "      <td>0.060397</td>\n",
       "      <td>0.491359</td>\n",
       "      <td>0.736842</td>\n",
       "      <td>-0.050094</td>\n",
       "      <td>1.278295</td>\n",
       "    </tr>\n",
       "    <tr>\n",
       "      <th>18</th>\n",
       "      <td>0.643569</td>\n",
       "      <td>0.063665</td>\n",
       "      <td>0.514186</td>\n",
       "      <td>0.772953</td>\n",
       "      <td>-0.021885</td>\n",
       "      <td>1.309023</td>\n",
       "    </tr>\n",
       "    <tr>\n",
       "      <th>19</th>\n",
       "      <td>0.515872</td>\n",
       "      <td>0.053904</td>\n",
       "      <td>0.406325</td>\n",
       "      <td>0.625419</td>\n",
       "      <td>-0.146011</td>\n",
       "      <td>1.177756</td>\n",
       "    </tr>\n",
       "    <tr>\n",
       "      <th>20</th>\n",
       "      <td>0.476581</td>\n",
       "      <td>0.053585</td>\n",
       "      <td>0.367684</td>\n",
       "      <td>0.585478</td>\n",
       "      <td>-0.185195</td>\n",
       "      <td>1.138357</td>\n",
       "    </tr>\n",
       "    <tr>\n",
       "      <th>21</th>\n",
       "      <td>0.417644</td>\n",
       "      <td>0.055686</td>\n",
       "      <td>0.304475</td>\n",
       "      <td>0.530812</td>\n",
       "      <td>-0.244849</td>\n",
       "      <td>1.080136</td>\n",
       "    </tr>\n",
       "    <tr>\n",
       "      <th>22</th>\n",
       "      <td>0.456935</td>\n",
       "      <td>0.053948</td>\n",
       "      <td>0.347300</td>\n",
       "      <td>0.566570</td>\n",
       "      <td>-0.204963</td>\n",
       "      <td>1.118833</td>\n",
       "    </tr>\n",
       "    <tr>\n",
       "      <th>23</th>\n",
       "      <td>0.486404</td>\n",
       "      <td>0.053533</td>\n",
       "      <td>0.377611</td>\n",
       "      <td>0.595197</td>\n",
       "      <td>-0.175355</td>\n",
       "      <td>1.148163</td>\n",
       "    </tr>\n",
       "    <tr>\n",
       "      <th>24</th>\n",
       "      <td>0.348884</td>\n",
       "      <td>0.061607</td>\n",
       "      <td>0.223683</td>\n",
       "      <td>0.474085</td>\n",
       "      <td>-0.315770</td>\n",
       "      <td>1.013537</td>\n",
       "    </tr>\n",
       "    <tr>\n",
       "      <th>25</th>\n",
       "      <td>0.378352</td>\n",
       "      <td>0.058665</td>\n",
       "      <td>0.259131</td>\n",
       "      <td>0.497574</td>\n",
       "      <td>-0.285201</td>\n",
       "      <td>1.041905</td>\n",
       "    </tr>\n",
       "    <tr>\n",
       "      <th>26</th>\n",
       "      <td>0.447112</td>\n",
       "      <td>0.054258</td>\n",
       "      <td>0.336846</td>\n",
       "      <td>0.557378</td>\n",
       "      <td>-0.214890</td>\n",
       "      <td>1.109115</td>\n",
       "    </tr>\n",
       "    <tr>\n",
       "      <th>27</th>\n",
       "      <td>0.447112</td>\n",
       "      <td>0.054258</td>\n",
       "      <td>0.336846</td>\n",
       "      <td>0.557378</td>\n",
       "      <td>-0.214890</td>\n",
       "      <td>1.109115</td>\n",
       "    </tr>\n",
       "    <tr>\n",
       "      <th>28</th>\n",
       "      <td>0.447112</td>\n",
       "      <td>0.054258</td>\n",
       "      <td>0.336846</td>\n",
       "      <td>0.557378</td>\n",
       "      <td>-0.214890</td>\n",
       "      <td>1.109115</td>\n",
       "    </tr>\n",
       "    <tr>\n",
       "      <th>29</th>\n",
       "      <td>0.466758</td>\n",
       "      <td>0.053723</td>\n",
       "      <td>0.357580</td>\n",
       "      <td>0.575936</td>\n",
       "      <td>-0.195064</td>\n",
       "      <td>1.128580</td>\n",
       "    </tr>\n",
       "    <tr>\n",
       "      <th>30</th>\n",
       "      <td>0.535518</td>\n",
       "      <td>0.054581</td>\n",
       "      <td>0.424596</td>\n",
       "      <td>0.646440</td>\n",
       "      <td>-0.126594</td>\n",
       "      <td>1.197630</td>\n",
       "    </tr>\n",
       "    <tr>\n",
       "      <th>31</th>\n",
       "      <td>0.604278</td>\n",
       "      <td>0.059426</td>\n",
       "      <td>0.483510</td>\n",
       "      <td>0.725045</td>\n",
       "      <td>-0.059555</td>\n",
       "      <td>1.268111</td>\n",
       "    </tr>\n",
       "    <tr>\n",
       "      <th>32</th>\n",
       "      <td>0.604278</td>\n",
       "      <td>0.059426</td>\n",
       "      <td>0.483510</td>\n",
       "      <td>0.725045</td>\n",
       "      <td>-0.059555</td>\n",
       "      <td>1.268111</td>\n",
       "    </tr>\n",
       "    <tr>\n",
       "      <th>33</th>\n",
       "      <td>0.820381</td>\n",
       "      <td>0.090872</td>\n",
       "      <td>0.635707</td>\n",
       "      <td>1.005054</td>\n",
       "      <td>0.142005</td>\n",
       "      <td>1.498756</td>\n",
       "    </tr>\n",
       "    <tr>\n",
       "      <th>34</th>\n",
       "      <td>0.977546</td>\n",
       "      <td>0.120602</td>\n",
       "      <td>0.732454</td>\n",
       "      <td>1.222638</td>\n",
       "      <td>0.280295</td>\n",
       "      <td>1.674797</td>\n",
       "    </tr>\n",
       "    <tr>\n",
       "      <th>35</th>\n",
       "      <td>1.105243</td>\n",
       "      <td>0.146356</td>\n",
       "      <td>0.807812</td>\n",
       "      <td>1.402675</td>\n",
       "      <td>0.387919</td>\n",
       "      <td>1.822568</td>\n",
       "    </tr>\n",
       "  </tbody>\n",
       "</table>\n",
       "</div>"
      ],
      "text/plain": [
       "        mean   mean_se  mean_ci_lower  mean_ci_upper  obs_ci_lower  \\\n",
       "0   0.348884  0.061607       0.223683       0.474085     -0.315770   \n",
       "1   0.034552  0.113225      -0.195548       0.264653     -0.657571   \n",
       "2   0.142604  0.092925      -0.046242       0.331450     -0.536919   \n",
       "3   0.103312  0.100128      -0.100171       0.306796     -0.580423   \n",
       "4   0.221187  0.079397       0.059832       0.382541     -0.451215   \n",
       "5   0.231010  0.077812       0.072877       0.389142     -0.440627   \n",
       "6   0.299769  0.067622       0.162345       0.437194     -0.367295   \n",
       "7   0.319415  0.065067       0.187183       0.451647     -0.346599   \n",
       "8   0.309592  0.066322       0.174811       0.444374     -0.356932   \n",
       "9   0.309592  0.066322       0.174811       0.444374     -0.356932   \n",
       "10  0.388175  0.057813       0.270685       0.505666     -0.275069   \n",
       "11  0.329238  0.063861       0.199456       0.459020     -0.336294   \n",
       "12  0.555164  0.055588       0.442195       0.668132     -0.107295   \n",
       "13  0.663215  0.066109       0.528865       0.797565     -0.003223   \n",
       "14  0.574809  0.056908       0.459159       0.690459     -0.088111   \n",
       "15  0.997192  0.124497       0.744184       1.250199      0.297119   \n",
       "16  0.918609  0.109114       0.696863       1.140356      0.229218   \n",
       "17  0.614101  0.060397       0.491359       0.736842     -0.050094   \n",
       "18  0.643569  0.063665       0.514186       0.772953     -0.021885   \n",
       "19  0.515872  0.053904       0.406325       0.625419     -0.146011   \n",
       "20  0.476581  0.053585       0.367684       0.585478     -0.185195   \n",
       "21  0.417644  0.055686       0.304475       0.530812     -0.244849   \n",
       "22  0.456935  0.053948       0.347300       0.566570     -0.204963   \n",
       "23  0.486404  0.053533       0.377611       0.595197     -0.175355   \n",
       "24  0.348884  0.061607       0.223683       0.474085     -0.315770   \n",
       "25  0.378352  0.058665       0.259131       0.497574     -0.285201   \n",
       "26  0.447112  0.054258       0.336846       0.557378     -0.214890   \n",
       "27  0.447112  0.054258       0.336846       0.557378     -0.214890   \n",
       "28  0.447112  0.054258       0.336846       0.557378     -0.214890   \n",
       "29  0.466758  0.053723       0.357580       0.575936     -0.195064   \n",
       "30  0.535518  0.054581       0.424596       0.646440     -0.126594   \n",
       "31  0.604278  0.059426       0.483510       0.725045     -0.059555   \n",
       "32  0.604278  0.059426       0.483510       0.725045     -0.059555   \n",
       "33  0.820381  0.090872       0.635707       1.005054      0.142005   \n",
       "34  0.977546  0.120602       0.732454       1.222638      0.280295   \n",
       "35  1.105243  0.146356       0.807812       1.402675      0.387919   \n",
       "\n",
       "    obs_ci_upper  \n",
       "0       1.013537  \n",
       "1       0.726676  \n",
       "2       0.822127  \n",
       "3       0.787048  \n",
       "4       0.893589  \n",
       "5       0.902646  \n",
       "6       0.966834  \n",
       "7       0.985429  \n",
       "8       0.976117  \n",
       "9       0.976117  \n",
       "10      1.051419  \n",
       "11      0.994770  \n",
       "12      1.217622  \n",
       "13      1.329653  \n",
       "14      1.237730  \n",
       "15      1.697265  \n",
       "16      1.608001  \n",
       "17      1.278295  \n",
       "18      1.309023  \n",
       "19      1.177756  \n",
       "20      1.138357  \n",
       "21      1.080136  \n",
       "22      1.118833  \n",
       "23      1.148163  \n",
       "24      1.013537  \n",
       "25      1.041905  \n",
       "26      1.109115  \n",
       "27      1.109115  \n",
       "28      1.109115  \n",
       "29      1.128580  \n",
       "30      1.197630  \n",
       "31      1.268111  \n",
       "32      1.268111  \n",
       "33      1.498756  \n",
       "34      1.674797  \n",
       "35      1.822568  "
      ]
     },
     "execution_count": 22,
     "metadata": {},
     "output_type": "execute_result"
    }
   ],
   "source": [
    "predictions=results.get_prediction(fruitfly).summary_frame(alpha=0.05)\n",
    "predictions"
   ]
  },
  {
   "cell_type": "markdown",
   "id": "2439b794-0026-495e-afd7-9113710a9cf3",
   "metadata": {},
   "source": [
    "Create a plot showing the 95% confidence intervals and the 95% predcition innteravls for the fitted line."
   ]
  },
  {
   "cell_type": "code",
   "execution_count": 36,
   "id": "7ef19a61-abeb-4432-ba42-efca9c0868a4",
   "metadata": {},
   "outputs": [
    {
     "name": "stderr",
     "output_type": "stream",
     "text": [
      "C:\\Users\\nabil\\anaconda3\\lib\\site-packages\\seaborn\\_decorators.py:36: FutureWarning: Pass the following variables as keyword args: x, y. From version 0.12, the only valid positional argument will be `data`, and passing other arguments without an explicit keyword will result in an error or misinterpretation.\n",
      "  warnings.warn(\n",
      "C:\\Users\\nabil\\anaconda3\\lib\\site-packages\\seaborn\\_decorators.py:36: FutureWarning: Pass the following variables as keyword args: x, y. From version 0.12, the only valid positional argument will be `data`, and passing other arguments without an explicit keyword will result in an error or misinterpretation.\n",
      "  warnings.warn(\n",
      "C:\\Users\\nabil\\anaconda3\\lib\\site-packages\\seaborn\\_decorators.py:36: FutureWarning: Pass the following variables as keyword args: x, y. From version 0.12, the only valid positional argument will be `data`, and passing other arguments without an explicit keyword will result in an error or misinterpretation.\n",
      "  warnings.warn(\n",
      "C:\\Users\\nabil\\anaconda3\\lib\\site-packages\\seaborn\\_decorators.py:36: FutureWarning: Pass the following variables as keyword args: x, y. From version 0.12, the only valid positional argument will be `data`, and passing other arguments without an explicit keyword will result in an error or misinterpretation.\n",
      "  warnings.warn(\n"
     ]
    },
    {
     "data": {
      "image/png": "[encoded data removed]",
      "text/plain": [
       "<Figure size 432x288 with 1 Axes>"
      ]
     },
     "metadata": {
      "needs_background": "light"
     },
     "output_type": "display_data"
    }
   ],
   "source": [
    "ax=sns.lineplot(fruitfly['fatherTelomere'], predictions['obs_ci_upper'],label='Prediction interval',linestyle=':',color='b')\n",
    "ax=sns.lineplot(fruitfly['fatherTelomere'], predictions['obs_ci_lower'],linestyle=':',color='b')\n",
    "ax=sns.lineplot(fruitfly['fatherTelomere'], predictions['mean_ci_upper'],label='Confidence interval',color='red')\n",
    "ax=sns.lineplot(fruitfly['fatherTelomere'],predictions['mean_ci_lower'],color='red')\n",
    "ax=ax=plt.scatter(fruitfly['fatherTelomere'], fruitfly['offspringLifespan'], label='Observed', marker='x', color='black')\n",
    "plt.plot(fruitfly['fatherTelomere'], predictions['mean'], label='Regression line')\n",
    "plt.xlabel('father Telomere')\n",
    "plt.ylabel('offspring Lifespan')\n",
    "plt.ylim(-1,3)\n",
    "plt.legend()\n",
    "plt.show()"
   ]
  },
  {
   "cell_type": "code",
   "execution_count": 62,
   "id": "79241447-ea87-4010-a0df-a549d0668b2b",
   "metadata": {},
   "outputs": [
    {
     "data": {
      "text/plain": [
       "0     0.35\n",
       "1     0.03\n",
       "2     0.14\n",
       "3     0.10\n",
       "4     0.22\n",
       "5     0.23\n",
       "6     0.30\n",
       "7     0.32\n",
       "8     0.31\n",
       "9     0.31\n",
       "10    0.39\n",
       "11    0.33\n",
       "12    0.56\n",
       "13    0.67\n",
       "14    0.58\n",
       "15    1.01\n",
       "16    0.93\n",
       "17    0.62\n",
       "18    0.65\n",
       "19    0.52\n",
       "20    0.48\n",
       "21    0.42\n",
       "22    0.46\n",
       "23    0.49\n",
       "24    0.35\n",
       "25    0.38\n",
       "26    0.45\n",
       "27    0.45\n",
       "28    0.45\n",
       "29    0.47\n",
       "30    0.54\n",
       "31    0.61\n",
       "32    0.61\n",
       "33    0.83\n",
       "34    0.99\n",
       "35    1.12\n",
       "Name: fatherTelomere, dtype: float64"
      ]
     },
     "execution_count": 62,
     "metadata": {},
     "output_type": "execute_result"
    }
   ],
   "source": [
    "fruitfly['fatherTelomere']"
   ]
  },
  {
   "cell_type": "code",
   "execution_count": null,
   "id": "443cc54c-04df-4265-8d72-dc766919211d",
   "metadata": {},
   "outputs": [],
   "source": []
  }
 ],
 "metadata": {
  "kernelspec": {
   "display_name": "Python 3 (ipykernel)",
   "language": "python",
   "name": "python3"
  },
  "language_info": {
   "codemirror_mode": {
    "name": "ipython",
    "version": 3
   },
   "file_extension": ".py",
   "mimetype": "text/x-python",
   "name": "python",
   "nbconvert_exporter": "python",
   "pygments_lexer": "ipython3",
   "version": "3.9.12"
  }
 },
 "nbformat": 4,
 "nbformat_minor": 5
}
