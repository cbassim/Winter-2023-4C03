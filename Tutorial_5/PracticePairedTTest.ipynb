{
 "cells": [
  {
   "cell_type": "code",
   "execution_count": 30,
   "id": "b983a835-38ef-44ea-998c-58cb98aa7a70",
   "metadata": {},
   "outputs": [
    {
     "name": "stdin",
     "output_type": "stream",
     "text": [
      "Once deleted, variables cannot be recovered. Proceed (y/[n])?  y\n"
     ]
    }
   ],
   "source": [
    "%reset\n",
    "import numpy as np\n",
    "import pandas as pd\n",
    "import matplotlib.pyplot as plt\n",
    "import seaborn as sns\n",
    "import scipy\n",
    "from scipy import stats\n",
    "from scipy.stats import norm\n",
    "import statsmodels.api as sm"
   ]
  },
  {
   "cell_type": "markdown",
   "id": "8ff69134-e8e8-4260-865b-9a2197e5331f",
   "metadata": {},
   "source": [
    "# Paired t-test"
   ]
  },
  {
   "cell_type": "markdown",
   "id": "c169029e-bbde-47f1-b362-b9a58c9bf784",
   "metadata": {},
   "source": [
    "Two different analytical impurity tests can be used to determine the impurity level in steel alloys. Four specimens are tested using both procedures with the results shown in the table below."
   ]
  },
  {
   "cell_type": "markdown",
   "id": "29d84b2c-1ff2-4f96-ba0e-b6f2ad5b57d9",
   "metadata": {},
   "source": [
    "What statistical test is appropriate?  What is the variable of interest?\n",
    "\n",
    "Is a two-sample test (independent) or a two-sample paired test more appropriate? Why?\n",
    "\n",
    "A paired test is more suitable because we have variability in common between our test pairs (between pairs commonality is the specimen). We want to cancel the variability by running the paired test on each specimen."
   ]
  },
  {
   "cell_type": "code",
   "execution_count": 31,
   "id": "42df9b0c-c6aa-4e4e-98a5-4dc6922b6491",
   "metadata": {},
   "outputs": [],
   "source": [
    "Test1=pd.Series([1.2,1.3,1.5,1.4],name=\"Test1\")\n",
    "Test2=pd.Series([1.4,1.7,1.5,1.3],name=\"Test2\")"
   ]
  },
  {
   "cell_type": "code",
   "execution_count": 32,
   "id": "702f4a43-484b-4f78-8dd8-baa7c23dd903",
   "metadata": {},
   "outputs": [
    {
     "data": {
      "text/html": [
       "<div>\n",
       "<style scoped>\n",
       "    .dataframe tbody tr th:only-of-type {\n",
       "        vertical-align: middle;\n",
       "    }\n",
       "\n",
       "    .dataframe tbody tr th {\n",
       "        vertical-align: top;\n",
       "    }\n",
       "\n",
       "    .dataframe thead th {\n",
       "        text-align: right;\n",
       "    }\n",
       "</style>\n",
       "<table border=\"1\" class=\"dataframe\">\n",
       "  <thead>\n",
       "    <tr style=\"text-align: right;\">\n",
       "      <th></th>\n",
       "      <th>Test1</th>\n",
       "      <th>Test2</th>\n",
       "    </tr>\n",
       "  </thead>\n",
       "  <tbody>\n",
       "    <tr>\n",
       "      <th>0</th>\n",
       "      <td>1.2</td>\n",
       "      <td>1.4</td>\n",
       "    </tr>\n",
       "    <tr>\n",
       "      <th>1</th>\n",
       "      <td>1.3</td>\n",
       "      <td>1.7</td>\n",
       "    </tr>\n",
       "    <tr>\n",
       "      <th>2</th>\n",
       "      <td>1.5</td>\n",
       "      <td>1.5</td>\n",
       "    </tr>\n",
       "    <tr>\n",
       "      <th>3</th>\n",
       "      <td>1.4</td>\n",
       "      <td>1.3</td>\n",
       "    </tr>\n",
       "  </tbody>\n",
       "</table>\n",
       "</div>"
      ],
      "text/plain": [
       "   Test1  Test2\n",
       "0    1.2    1.4\n",
       "1    1.3    1.7\n",
       "2    1.5    1.5\n",
       "3    1.4    1.3"
      ]
     },
     "execution_count": 32,
     "metadata": {},
     "output_type": "execute_result"
    }
   ],
   "source": [
    "df=Test1\n",
    "df=pd.concat([df,Test2],axis=\"columns\")\n",
    "df"
   ]
  },
  {
   "cell_type": "markdown",
   "id": "586abcc0-1c7c-438a-b61a-ca4ba2fb3d62",
   "metadata": {},
   "source": [
    "What is the statistic of interest?"
   ]
  },
  {
   "cell_type": "code",
   "execution_count": null,
   "id": "44f277bb-2849-46f7-b73f-c52ee1cda97c",
   "metadata": {},
   "outputs": [],
   "source": []
  },
  {
   "cell_type": "code",
   "execution_count": null,
   "id": "190d1d8b-af78-4a62-924c-f19224094d39",
   "metadata": {},
   "outputs": [],
   "source": []
  },
  {
   "cell_type": "code",
   "execution_count": null,
   "id": "6887300b-c164-447a-ae43-781d8b564711",
   "metadata": {},
   "outputs": [],
   "source": []
  },
  {
   "cell_type": "code",
   "execution_count": null,
   "id": "0daa0a66-10ac-4099-bba6-0d9643bc1a4f",
   "metadata": {},
   "outputs": [],
   "source": []
  },
  {
   "cell_type": "code",
   "execution_count": 33,
   "id": "f32b0638-53e7-498c-affc-1e5818b84c9b",
   "metadata": {},
   "outputs": [
    {
     "name": "stdout",
     "output_type": "stream",
     "text": [
      "0    0.2\n",
      "1    0.4\n",
      "2    0.0\n",
      "3   -0.1\n",
      "dtype: float64\n"
     ]
    }
   ],
   "source": [
    "# The mean difference between pairs\n",
    "diff = Test2-Test1\n",
    "print(diff)"
   ]
  },
  {
   "cell_type": "code",
   "execution_count": null,
   "id": "72b6c705-cbbb-4ade-bb98-16c497208246",
   "metadata": {},
   "outputs": [],
   "source": []
  },
  {
   "cell_type": "code",
   "execution_count": null,
   "id": "e2ad203e-ec55-4b2d-a1c8-3e844dcefa40",
   "metadata": {},
   "outputs": [],
   "source": []
  },
  {
   "cell_type": "code",
   "execution_count": null,
   "id": "b5897c3f-a217-45d7-8bce-15c6fb7855aa",
   "metadata": {},
   "outputs": [],
   "source": []
  },
  {
   "cell_type": "markdown",
   "id": "6a7f8020-b9e9-4e48-8cd6-04a36a6070d5",
   "metadata": {},
   "source": [
    "Review assumptions of the paired t-test."
   ]
  },
  {
   "cell_type": "code",
   "execution_count": 34,
   "id": "058dc16c-e857-48e5-b964-2b4f408dab7d",
   "metadata": {},
   "outputs": [
    {
     "data": {
      "image/png": "[encoded data removed]",
      "text/plain": [
       "<Figure size 640x480 with 1 Axes>"
      ]
     },
     "metadata": {},
     "output_type": "display_data"
    }
   ],
   "source": [
    "diff.sort_values()\n",
    "sm.qqplot(diff,line='45',loc=np.mean(diff),scale=np.std(diff,ddof=1))\n",
    "plt.show()"
   ]
  },
  {
   "cell_type": "code",
   "execution_count": 35,
   "id": "41dcd76f-acf9-4759-9102-524d40dd7923",
   "metadata": {},
   "outputs": [
    {
     "data": {
      "text/plain": [
       "ShapiroResult(statistic=0.9630723595619202, pvalue=0.7982271313667297)"
      ]
     },
     "execution_count": 35,
     "metadata": {},
     "output_type": "execute_result"
    }
   ],
   "source": [
    "stats.shapiro(diff)"
   ]
  },
  {
   "cell_type": "code",
   "execution_count": null,
   "id": "fc739a9b-705b-410a-9d6e-f52426ad3816",
   "metadata": {},
   "outputs": [],
   "source": []
  },
  {
   "cell_type": "code",
   "execution_count": null,
   "id": "5064c419-aa57-4575-b2c4-dea2b7c2d619",
   "metadata": {},
   "outputs": [],
   "source": []
  },
  {
   "cell_type": "code",
   "execution_count": null,
   "id": "44e14529-cb8a-44bc-b11b-36dd4f55d17f",
   "metadata": {},
   "outputs": [],
   "source": []
  },
  {
   "cell_type": "markdown",
   "id": "bd142a38-de29-45fc-968e-40c5beafef5e",
   "metadata": {},
   "source": [
    "What is the null and alternative hypothesis?\n",
    "\n",
    "\n",
    "\n",
    "What is the alpha value and is it a one-sided test or two-sided test?"
   ]
  },
  {
   "cell_type": "code",
   "execution_count": null,
   "id": "fb75cba8-ecba-4afe-ba6c-6c6978b7fe97",
   "metadata": {},
   "outputs": [],
   "source": []
  },
  {
   "cell_type": "code",
   "execution_count": 36,
   "id": "fc8eb218-bdf4-4dd0-bd4f-b343670fcf65",
   "metadata": {},
   "outputs": [
    {
     "name": "stdout",
     "output_type": "stream",
     "text": [
      "0.125\n",
      "0.22173557826083443\n"
     ]
    }
   ],
   "source": [
    "# The mean difference\n",
    "mean_diff = np.mean(diff)\n",
    "std_diff= np.std(diff, ddof=1)\n",
    "print(mean_diff)\n",
    "print(std_diff)"
   ]
  },
  {
   "cell_type": "code",
   "execution_count": 37,
   "id": "73b199b0-7f59-4f3d-a759-80f412fb3de1",
   "metadata": {},
   "outputs": [
    {
     "data": {
      "text/plain": [
       "1.1274690420042437"
      ]
     },
     "execution_count": 37,
     "metadata": {},
     "output_type": "execute_result"
    }
   ],
   "source": [
    "# the test statistic:\n",
    "Ptest_statistic=mean_diff/(std_diff/np.sqrt(len(Test1)))\n",
    "Ptest_statistic"
   ]
  },
  {
   "cell_type": "code",
   "execution_count": null,
   "id": "db9e3c08-fabe-44d0-bdab-738f31f8d235",
   "metadata": {},
   "outputs": [],
   "source": []
  },
  {
   "cell_type": "code",
   "execution_count": 38,
   "id": "cbd990a3-7dd9-4ad1-957a-5fc11073a1e0",
   "metadata": {},
   "outputs": [
    {
     "name": "stdout",
     "output_type": "stream",
     "text": [
      "3.182446305284263\n"
     ]
    }
   ],
   "source": [
    "# critical t value using alpha=0.05 and df=n-1=3 for a two-sided test\n",
    "Ct = stats.t.ppf(0.975,3)\n",
    "print(Ct)"
   ]
  },
  {
   "cell_type": "code",
   "execution_count": 39,
   "id": "06bfffdb-992c-48f6-9160-fee419e6cf62",
   "metadata": {},
   "outputs": [
    {
     "name": "stdout",
     "output_type": "stream",
     "text": [
      "-0.227830785893131 <= population mean difference <= 0.477830785893131\n"
     ]
    }
   ],
   "source": [
    "LB = mean_diff - Ct*std_diff/np.sqrt(4)\n",
    "UB = mean_diff + Ct*std_diff/np.sqrt(4)\n",
    "print(str(LB) + \" <= population mean difference <= \" + str(UB))"
   ]
  },
  {
   "cell_type": "markdown",
   "id": "e4626984-e462-42d1-818e-72e87c8695cb",
   "metadata": {},
   "source": [
    "Since the CI does span 0, we can conclude there is not a statistically significant difference."
   ]
  },
  {
   "cell_type": "markdown",
   "id": "f7e6d5ec-d154-4cfa-b321-096626822775",
   "metadata": {},
   "source": [
    "Calculate the 95% confidence interval for the mean of difference $μ (difference)$\n",
    "\n",
    "Interpret the confidence interval and make a conclusion for the researcher."
   ]
  },
  {
   "cell_type": "code",
   "execution_count": null,
   "id": "649f4b59-a91d-4d42-98e4-a95441c95d5d",
   "metadata": {},
   "outputs": [],
   "source": []
  },
  {
   "cell_type": "markdown",
   "id": "a97977d9-cc69-4899-ab2d-c9a21e4daac9",
   "metadata": {},
   "source": [
    "Paired t-test calculations.  \\\n",
    "You can use Python and scipy states stats.t-test realted to run a paired t test\n",
    "\n",
    "The you can find the t-statistic for the mean difference using the stadard errror of the differences.  This is a one sample t-test where the $\\mu$ is 0 for the new set of data (the differences)"
   ]
  },
  {
   "cell_type": "code",
   "execution_count": 40,
   "id": "589e98a1-085a-4575-a31c-e5655bbb0521",
   "metadata": {},
   "outputs": [
    {
     "data": {
      "text/plain": [
       "Ttest_relResult(statistic=-1.1274690420042437, pvalue=0.3415759998405409)"
      ]
     },
     "execution_count": 40,
     "metadata": {},
     "output_type": "execute_result"
    }
   ],
   "source": [
    "#Python use scipy stats.t-test related\n",
    "stats.ttest_rel(Test1,Test2)"
   ]
  },
  {
   "cell_type": "code",
   "execution_count": 41,
   "id": "079a62b8-c3c6-4d3e-ae2a-c0d3e3a6789d",
   "metadata": {},
   "outputs": [
    {
     "data": {
      "text/plain": [
       "(-0.227830785893131, 0.477830785893131)"
      ]
     },
     "execution_count": 41,
     "metadata": {},
     "output_type": "execute_result"
    }
   ],
   "source": [
    "# Check with python\n",
    "import statsmodels.api as sm\n",
    "import statsmodels as sm\n",
    "CI_pt=sm.stats.weightstats._tconfint_generic(mean_diff,std_diff/np.sqrt(4),(len(Test1)-1),0.05,alternative='two-sided')\n",
    "CI_pt"
   ]
  },
  {
   "cell_type": "code",
   "execution_count": 42,
   "id": "41d3a32d-ead5-43f9-9403-3b2e8c50359f",
   "metadata": {},
   "outputs": [
    {
     "name": "stdout",
     "output_type": "stream",
     "text": [
      "1.1274690420042437\n"
     ]
    }
   ],
   "source": [
    "t_paired= ((mean_diff)/(std_diff/np.sqrt(4)))\n",
    "print(t_paired)"
   ]
  },
  {
   "cell_type": "markdown",
   "id": "a5607e97-7c17-4720-bffc-d4ca26ea484b",
   "metadata": {},
   "source": [
    "You can find the p-value here by finding the probability of finding a t-value of 1.127 using alpha = 0.05 and a two-sided test. \n",
    "\n",
    "This is betwee n p=0.15 and p=0.2 by the table for dof=3, so double this is p=0.3 to 0.4.  The exact p-value found was p=0.3416, so we fail to reject the null hypothesis that the mean of differences between the two groups is 0.  \n",
    "\n",
    "This agrees with the CI above, which it always will.   "
   ]
  },
  {
   "cell_type": "code",
   "execution_count": null,
   "id": "72224ebd-0b8d-4c53-a0f6-a1e8c6647415",
   "metadata": {},
   "outputs": [],
   "source": []
  },
  {
   "cell_type": "code",
   "execution_count": null,
   "id": "4ea9fcf5-6f41-4e41-8027-7c42bf927819",
   "metadata": {},
   "outputs": [],
   "source": []
  }
 ],
 "metadata": {
  "kernelspec": {
   "display_name": "Python 3 (ipykernel)",
   "language": "python",
   "name": "python3"
  },
  "language_info": {
   "codemirror_mode": {
    "name": "ipython",
    "version": 3
   },
   "file_extension": ".py",
   "mimetype": "text/x-python",
   "name": "python",
   "nbconvert_exporter": "python",
   "pygments_lexer": "ipython3",
   "version": "3.9.13"
  }
 },
 "nbformat": 4,
 "nbformat_minor": 5
}
