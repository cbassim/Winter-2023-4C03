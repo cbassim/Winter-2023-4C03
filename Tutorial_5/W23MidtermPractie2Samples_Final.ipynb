{
 "cells": [
  {
   "cell_type": "code",
   "execution_count": 55,
   "id": "7594ce5b-cbb3-4933-bba2-34a3c80df6cc",
   "metadata": {},
   "outputs": [
    {
     "name": "stdin",
     "output_type": "stream",
     "text": [
      "Once deleted, variables cannot be recovered. Proceed (y/[n])?  y\n"
     ]
    }
   ],
   "source": [
    "%reset\n",
    "import numpy as np\n",
    "import pandas as pd\n",
    "import matplotlib.pyplot as plt\n",
    "import seaborn as sns\n",
    "import scipy\n",
    "from scipy import stats\n",
    "from scipy.stats import norm"
   ]
  },
  {
   "cell_type": "markdown",
   "id": "39f1cad9-49c6-4748-b2f9-fbaa9af7e6f7",
   "metadata": {},
   "source": [
    "# Question 1"
   ]
  },
  {
   "cell_type": "code",
   "execution_count": 56,
   "id": "42895e66-5b61-4c29-b0cf-03674cfa4e66",
   "metadata": {},
   "outputs": [],
   "source": [
    "Catalyst1=pd.Series([91.5,94.18,92.18,95.39,91.79,89.07,94.72,89.21],name=\"Catalyst1\")\n",
    "Catalyst2=pd.Series([89.19,80.95,80.46,93.21,87.19,87.04,81.07,92.75],name=\"Catalyst2\")"
   ]
  },
  {
   "cell_type": "code",
   "execution_count": 57,
   "id": "bd61387f-ff19-414e-a7bf-519ae4908279",
   "metadata": {},
   "outputs": [
    {
     "data": {
      "text/html": [
       "<div>\n",
       "<style scoped>\n",
       "    .dataframe tbody tr th:only-of-type {\n",
       "        vertical-align: middle;\n",
       "    }\n",
       "\n",
       "    .dataframe tbody tr th {\n",
       "        vertical-align: top;\n",
       "    }\n",
       "\n",
       "    .dataframe thead th {\n",
       "        text-align: right;\n",
       "    }\n",
       "</style>\n",
       "<table border=\"1\" class=\"dataframe\">\n",
       "  <thead>\n",
       "    <tr style=\"text-align: right;\">\n",
       "      <th></th>\n",
       "      <th>Catalyst1</th>\n",
       "      <th>Catalyst2</th>\n",
       "    </tr>\n",
       "  </thead>\n",
       "  <tbody>\n",
       "    <tr>\n",
       "      <th>0</th>\n",
       "      <td>91.50</td>\n",
       "      <td>89.19</td>\n",
       "    </tr>\n",
       "    <tr>\n",
       "      <th>1</th>\n",
       "      <td>94.18</td>\n",
       "      <td>80.95</td>\n",
       "    </tr>\n",
       "    <tr>\n",
       "      <th>2</th>\n",
       "      <td>92.18</td>\n",
       "      <td>80.46</td>\n",
       "    </tr>\n",
       "    <tr>\n",
       "      <th>3</th>\n",
       "      <td>95.39</td>\n",
       "      <td>93.21</td>\n",
       "    </tr>\n",
       "    <tr>\n",
       "      <th>4</th>\n",
       "      <td>91.79</td>\n",
       "      <td>87.19</td>\n",
       "    </tr>\n",
       "    <tr>\n",
       "      <th>5</th>\n",
       "      <td>89.07</td>\n",
       "      <td>87.04</td>\n",
       "    </tr>\n",
       "    <tr>\n",
       "      <th>6</th>\n",
       "      <td>94.72</td>\n",
       "      <td>81.07</td>\n",
       "    </tr>\n",
       "    <tr>\n",
       "      <th>7</th>\n",
       "      <td>89.21</td>\n",
       "      <td>92.75</td>\n",
       "    </tr>\n",
       "  </tbody>\n",
       "</table>\n",
       "</div>"
      ],
      "text/plain": [
       "   Catalyst1  Catalyst2\n",
       "0      91.50      89.19\n",
       "1      94.18      80.95\n",
       "2      92.18      80.46\n",
       "3      95.39      93.21\n",
       "4      91.79      87.19\n",
       "5      89.07      87.04\n",
       "6      94.72      81.07\n",
       "7      89.21      92.75"
      ]
     },
     "execution_count": 57,
     "metadata": {},
     "output_type": "execute_result"
    }
   ],
   "source": [
    "df=Catalyst1\n",
    "df=pd.concat([df,Catalyst2],axis=\"columns\")\n",
    "df"
   ]
  },
  {
   "cell_type": "code",
   "execution_count": 58,
   "id": "63bb30bb-949d-402f-9615-4228bcaa7559",
   "metadata": {},
   "outputs": [
    {
     "data": {
      "text/html": [
       "<div>\n",
       "<style scoped>\n",
       "    .dataframe tbody tr th:only-of-type {\n",
       "        vertical-align: middle;\n",
       "    }\n",
       "\n",
       "    .dataframe tbody tr th {\n",
       "        vertical-align: top;\n",
       "    }\n",
       "\n",
       "    .dataframe thead th {\n",
       "        text-align: right;\n",
       "    }\n",
       "</style>\n",
       "<table border=\"1\" class=\"dataframe\">\n",
       "  <thead>\n",
       "    <tr style=\"text-align: right;\">\n",
       "      <th></th>\n",
       "      <th>Catalyst1</th>\n",
       "      <th>Catalyst2</th>\n",
       "    </tr>\n",
       "  </thead>\n",
       "  <tbody>\n",
       "    <tr>\n",
       "      <th>count</th>\n",
       "      <td>8.000000</td>\n",
       "      <td>8.000000</td>\n",
       "    </tr>\n",
       "    <tr>\n",
       "      <th>mean</th>\n",
       "      <td>92.255000</td>\n",
       "      <td>86.482500</td>\n",
       "    </tr>\n",
       "    <tr>\n",
       "      <th>std</th>\n",
       "      <td>2.385019</td>\n",
       "      <td>5.194186</td>\n",
       "    </tr>\n",
       "    <tr>\n",
       "      <th>min</th>\n",
       "      <td>89.070000</td>\n",
       "      <td>80.460000</td>\n",
       "    </tr>\n",
       "    <tr>\n",
       "      <th>25%</th>\n",
       "      <td>90.927500</td>\n",
       "      <td>81.040000</td>\n",
       "    </tr>\n",
       "    <tr>\n",
       "      <th>50%</th>\n",
       "      <td>91.985000</td>\n",
       "      <td>87.115000</td>\n",
       "    </tr>\n",
       "    <tr>\n",
       "      <th>75%</th>\n",
       "      <td>94.315000</td>\n",
       "      <td>90.080000</td>\n",
       "    </tr>\n",
       "    <tr>\n",
       "      <th>max</th>\n",
       "      <td>95.390000</td>\n",
       "      <td>93.210000</td>\n",
       "    </tr>\n",
       "  </tbody>\n",
       "</table>\n",
       "</div>"
      ],
      "text/plain": [
       "       Catalyst1  Catalyst2\n",
       "count   8.000000   8.000000\n",
       "mean   92.255000  86.482500\n",
       "std     2.385019   5.194186\n",
       "min    89.070000  80.460000\n",
       "25%    90.927500  81.040000\n",
       "50%    91.985000  87.115000\n",
       "75%    94.315000  90.080000\n",
       "max    95.390000  93.210000"
      ]
     },
     "execution_count": 58,
     "metadata": {},
     "output_type": "execute_result"
    }
   ],
   "source": [
    "df.describe()"
   ]
  },
  {
   "cell_type": "markdown",
   "id": "affd5794-12a6-430f-bf2c-a0833077ac1b",
   "metadata": {},
   "source": [
    "What test do you want to run?  What is the statistic of interest?  What is the appropriate test?\n",
    "\n",
    "Can you assume randomly and identically distributed: independent samples within and between groups"
   ]
  },
  {
   "cell_type": "markdown",
   "id": "fed198fd-4fbc-47f8-995e-ff22f74d5bf5",
   "metadata": {},
   "source": [
    "2 sample independent t-test (Student's t-test)\n",
    "\n",
    "difference in the means of 2 samples\n",
    "\n",
    "Need to review and defend the assumptions of the test.\n",
    "\n",
    "Assumptions include\n",
    "- independence of samples and random sampling\n",
    "- normality of both samples\n",
    "- and equality af variance"
   ]
  },
  {
   "cell_type": "code",
   "execution_count": null,
   "id": "cb9ff10f-68c5-445b-9c34-7a1c08cc9786",
   "metadata": {},
   "outputs": [],
   "source": []
  },
  {
   "cell_type": "code",
   "execution_count": null,
   "id": "1e5b6044-6453-42f5-896c-9e94e1af3b0a",
   "metadata": {},
   "outputs": [],
   "source": []
  },
  {
   "cell_type": "code",
   "execution_count": null,
   "id": "595ab22f-353b-45f9-bd7a-73cdb3f9da3e",
   "metadata": {},
   "outputs": [],
   "source": []
  },
  {
   "cell_type": "code",
   "execution_count": null,
   "id": "f753f18c-09f1-4d1f-bd9f-96726c5b68ed",
   "metadata": {},
   "outputs": [],
   "source": []
  },
  {
   "cell_type": "code",
   "execution_count": null,
   "id": "1a577711-64a8-4ecd-83da-0d20ab4b4b1d",
   "metadata": {},
   "outputs": [],
   "source": []
  },
  {
   "cell_type": "code",
   "execution_count": null,
   "id": "d7509c3e-88bc-49e9-a63b-3ab2aca29089",
   "metadata": {},
   "outputs": [],
   "source": []
  },
  {
   "cell_type": "code",
   "execution_count": null,
   "id": "b8e1203b-dd3f-47b1-8490-17e687feb459",
   "metadata": {},
   "outputs": [],
   "source": []
  },
  {
   "cell_type": "code",
   "execution_count": null,
   "id": "562ca6f7-3322-4279-b105-0f3d234f4809",
   "metadata": {},
   "outputs": [],
   "source": []
  },
  {
   "cell_type": "code",
   "execution_count": null,
   "id": "2472a724-855b-4069-8f29-a6f89d52914b",
   "metadata": {},
   "outputs": [],
   "source": []
  },
  {
   "cell_type": "markdown",
   "id": "231f737d-bbc7-4a24-84bb-12ae3e0dd405",
   "metadata": {},
   "source": [
    "These are supported by the Shapiro-Wilks test of normality having non-significant p-values (thereby failing to reject the null of normal distribution). \n",
    "\n",
    "For the Shapiro Wilk’s test:  The null hypothesis is that the distribution is normal (H0: normal; HA: not normal).  When you run the Shapiro Wilk’s test, you find a p-value that either supports rejecting the null hypothesis (if alpha =0.05, then when p<= 0.05 you reject the null hypothesis and accept the alternative hypothesis) or failing to reject the null hypothesis (when p>0.05 you fail to reject the null hypothesis).  So when the Shapiro Wilks test is p>0.05, we fail to reject the null hypothesis that the distribution is normal and state that the distribution is normal.  "
   ]
  },
  {
   "cell_type": "code",
   "execution_count": 59,
   "id": "f5302559-ef9c-4937-b0d3-580d6a0b23e0",
   "metadata": {},
   "outputs": [
    {
     "data": {
      "text/plain": [
       "ShapiroResult(statistic=0.9217145442962646, pvalue=0.4439299404621124)"
      ]
     },
     "execution_count": 59,
     "metadata": {},
     "output_type": "execute_result"
    }
   ],
   "source": [
    "stats.shapiro(Catalyst1)"
   ]
  },
  {
   "cell_type": "code",
   "execution_count": 60,
   "id": "96c7769f-e655-4097-8570-5eccb22d62d8",
   "metadata": {},
   "outputs": [
    {
     "data": {
      "text/plain": [
       "ShapiroResult(statistic=0.8780398964881897, pvalue=0.18035751581192017)"
      ]
     },
     "execution_count": 60,
     "metadata": {},
     "output_type": "execute_result"
    }
   ],
   "source": [
    "stats.shapiro(Catalyst2)"
   ]
  },
  {
   "cell_type": "code",
   "execution_count": 61,
   "id": "9078f563-b6e7-4886-b242-f0b8caf0483f",
   "metadata": {},
   "outputs": [
    {
     "data": {
      "image/png": "[encoded data removed]",
      "text/plain": [
       "<Figure size 640x480 with 1 Axes>"
      ]
     },
     "metadata": {},
     "output_type": "display_data"
    },
    {
     "data": {
      "image/png": "[encoded data removed]",
      "text/plain": [
       "<Figure size 640x480 with 1 Axes>"
      ]
     },
     "metadata": {},
     "output_type": "display_data"
    }
   ],
   "source": [
    "import statsmodels.api as sm\n",
    "#import statsmodels as sm\n",
    "Catalyst1.sort_values()\n",
    "Catalyst2.sort_values()\n",
    "sm.qqplot(Catalyst1,line='45',fit=True)\n",
    "plt.ylabel(\"Sample Quantiles Catalyst1\")\n",
    "sm.qqplot(Catalyst2,line='45',fit=True)\n",
    "plt.ylabel(\"Sample Quantiles Catalyst2\")\n",
    "plt.show()"
   ]
  },
  {
   "cell_type": "code",
   "execution_count": 62,
   "id": "6d0d2d15-b333-48a8-90a1-e9dee673ef04",
   "metadata": {},
   "outputs": [
    {
     "data": {
      "image/png": "[encoded data removed]",
      "text/plain": [
       "<Figure size 1000x400 with 2 Axes>"
      ]
     },
     "metadata": {},
     "output_type": "display_data"
    }
   ],
   "source": [
    "# with 95%CI\n",
    "import pingouin as pg\n",
    "figA,axA=plt.subplots(nrows=1,ncols=2,figsize=(10,4))\n",
    "pg.qqplot(Catalyst1,dist='norm',ax=axA[0])\n",
    "pg.qqplot(Catalyst2,dist='norm',ax=axA[1])\n",
    "plt.show()"
   ]
  },
  {
   "cell_type": "markdown",
   "id": "e33d1f2d-4b4d-4c58-92da-4107dd65a5ac",
   "metadata": {},
   "source": [
    "and the Levene's test having non-significnat p-value (thereby failing to reject the null of equal variance). \n",
    "\n",
    "Similarly, for the Levene’s test: the null hypothesis is that the two distributions are equivalent (H0: variances equivalent; HA: variances unequal).  When you run a Levene’s test, you find a p-value that either supports rejecting the null hypothesis (if alpha =0.05, then when p<=0.05 you reject the null hypothesis and accept the alternative hypothesis) or failing to reject the null hypothesis (when p>0.05 you fail to reject the null hypothesis).  So when the Levene’s test is p>0.05, we fail to reject the null hypothesis that the variances are equivalent and state that the variances are equivalent.   \n",
    "\n",
    "As short hand you can look at the ratio of the standard deviations and make a judgement if they are equivalent or not.\n",
    "\n",
    "As a rule of thumb, if the ratio of the larger variance to the smaller variance is less than 4 then we can assume the variances are approximately equal and use the Student’s t-test."
   ]
  },
  {
   "cell_type": "code",
   "execution_count": 63,
   "id": "d5a42f05-4355-4c4b-8af4-d50aa86a3521",
   "metadata": {},
   "outputs": [
    {
     "data": {
      "text/plain": [
       "LeveneResult(statistic=4.010441956225402, pvalue=0.06497813783011223)"
      ]
     },
     "execution_count": 63,
     "metadata": {},
     "output_type": "execute_result"
    }
   ],
   "source": [
    "stats.levene(Catalyst1,Catalyst2)"
   ]
  },
  {
   "cell_type": "code",
   "execution_count": 64,
   "id": "9b9f95e5-7b34-45d4-9b52-dbf563ef5ba7",
   "metadata": {},
   "outputs": [
    {
     "data": {
      "text/plain": [
       "5.19418562295518"
      ]
     },
     "execution_count": 64,
     "metadata": {},
     "output_type": "execute_result"
    }
   ],
   "source": [
    "std2=np.std(Catalyst2,ddof=1)\n",
    "std2"
   ]
  },
  {
   "cell_type": "code",
   "execution_count": 65,
   "id": "8aafbaf4-6aa9-4491-8833-f8874a02d127",
   "metadata": {},
   "outputs": [
    {
     "data": {
      "text/plain": [
       "2.385018718105646"
      ]
     },
     "execution_count": 65,
     "metadata": {},
     "output_type": "execute_result"
    }
   ],
   "source": [
    "std1=np.std(Catalyst1,ddof=1)\n",
    "std1"
   ]
  },
  {
   "cell_type": "code",
   "execution_count": 66,
   "id": "1cb0d3f5-25d9-4346-b6e2-8ccdab047056",
   "metadata": {},
   "outputs": [
    {
     "data": {
      "text/plain": [
       "2.177838514861123"
      ]
     },
     "execution_count": 66,
     "metadata": {},
     "output_type": "execute_result"
    }
   ],
   "source": [
    "std2/std1"
   ]
  },
  {
   "cell_type": "code",
   "execution_count": null,
   "id": "eeeb9c57-31f3-40e2-babc-a1be941e3372",
   "metadata": {},
   "outputs": [],
   "source": []
  },
  {
   "cell_type": "code",
   "execution_count": null,
   "id": "e9ac7572-cf8c-48f7-a778-830deef83b26",
   "metadata": {},
   "outputs": [],
   "source": []
  },
  {
   "cell_type": "code",
   "execution_count": null,
   "id": "28ac35ad-2cd0-4a2b-b1d5-10043eddcb83",
   "metadata": {},
   "outputs": [],
   "source": []
  },
  {
   "cell_type": "code",
   "execution_count": null,
   "id": "6d29bde2-b12a-46af-8b69-00425563ba41",
   "metadata": {},
   "outputs": [],
   "source": []
  },
  {
   "cell_type": "code",
   "execution_count": null,
   "id": "14a649a7-a08b-470a-9948-61efa886fe74",
   "metadata": {},
   "outputs": [],
   "source": []
  },
  {
   "cell_type": "code",
   "execution_count": null,
   "id": "351bdc2e-96c9-4286-95ee-a1f0339905fe",
   "metadata": {},
   "outputs": [],
   "source": []
  },
  {
   "cell_type": "code",
   "execution_count": null,
   "id": "9501ac4e-de96-46f2-b90d-e121a89d924d",
   "metadata": {},
   "outputs": [],
   "source": []
  },
  {
   "cell_type": "code",
   "execution_count": null,
   "id": "136f0a9c-05fa-423a-93a2-71dce461efce",
   "metadata": {},
   "outputs": [],
   "source": []
  },
  {
   "cell_type": "markdown",
   "id": "ff293aa6-5da5-4a58-863d-9d10edc2a03d",
   "metadata": {},
   "source": [
    "What is the alpha value?\n",
    "\n",
    "Is it a one-side or two-side test?\n",
    "\n",
    "What is the null and alternative hypothesis?"
   ]
  },
  {
   "cell_type": "code",
   "execution_count": null,
   "id": "78b24d32-f54d-4b92-93f2-6a28fe53b629",
   "metadata": {},
   "outputs": [],
   "source": []
  },
  {
   "cell_type": "code",
   "execution_count": null,
   "id": "84f50036-1695-466f-a327-8a0004d10532",
   "metadata": {},
   "outputs": [],
   "source": []
  },
  {
   "cell_type": "code",
   "execution_count": null,
   "id": "36f9506d-0468-4613-9697-9cf156751d88",
   "metadata": {},
   "outputs": [],
   "source": []
  },
  {
   "cell_type": "code",
   "execution_count": null,
   "id": "8af6dc53-df5f-4308-a801-dbe58326bc17",
   "metadata": {},
   "outputs": [],
   "source": []
  },
  {
   "cell_type": "code",
   "execution_count": null,
   "id": "296aa59e-f42f-4abf-bd7f-c8742e12c692",
   "metadata": {},
   "outputs": [],
   "source": []
  },
  {
   "cell_type": "code",
   "execution_count": null,
   "id": "d38f8a63-6115-48bf-8cc2-3f0a467b48aa",
   "metadata": {},
   "outputs": [],
   "source": []
  },
  {
   "cell_type": "code",
   "execution_count": 67,
   "id": "8f8ef8e2-2802-4a90-b6fa-ded42d01befb",
   "metadata": {},
   "outputs": [
    {
     "data": {
      "text/plain": [
       "Ttest_indResult(statistic=2.856593665268584, pvalue=0.012683869002415266)"
      ]
     },
     "execution_count": 67,
     "metadata": {},
     "output_type": "execute_result"
    }
   ],
   "source": [
    "stats.ttest_ind(Catalyst1,Catalyst2,equal_var=True)"
   ]
  },
  {
   "cell_type": "markdown",
   "id": "bf72869f-4ba0-4090-b756-6ca7e6a72a66",
   "metadata": {},
   "source": [
    "Run the t-test\n",
    "\n",
    "The null hypothesis is that the 2 groups have equal means:\n",
    "$\\mu$1 = $\\mu2$\n",
    "\n",
    "and the alternative hypothesis is that they have different means (for  a two-sided test).  \n",
    "\n",
    "The level of significance is alpha = 0.05  \n",
    "Calculate the test statistic using a pooled standard deviation.  \n",
    "Compare this to the critical t value at n1+n2-2 and alpha = 0.05.  \n",
    "Find the p-value for the test statistic. \n",
    "Make a conclusion.  "
   ]
  },
  {
   "cell_type": "code",
   "execution_count": null,
   "id": "6fa222b0-6d33-4e96-961a-1422cab2feb7",
   "metadata": {},
   "outputs": [],
   "source": []
  },
  {
   "cell_type": "code",
   "execution_count": null,
   "id": "a689da6a-67f0-47f7-b2e9-046bdfa95421",
   "metadata": {},
   "outputs": [],
   "source": []
  },
  {
   "cell_type": "code",
   "execution_count": 68,
   "id": "2d5492a8-e560-4f64-a003-4dee42fc4b59",
   "metadata": {},
   "outputs": [
    {
     "data": {
      "text/plain": [
       "5.772500000000022"
      ]
     },
     "execution_count": 68,
     "metadata": {},
     "output_type": "execute_result"
    }
   ],
   "source": [
    "diffinmeans=Catalyst1.mean()-Catalyst2.mean()\n",
    "diffinmeans"
   ]
  },
  {
   "cell_type": "code",
   "execution_count": 69,
   "id": "cddff52b-f970-49cd-81d1-4dbc6719bbf5",
   "metadata": {},
   "outputs": [],
   "source": [
    "len1=len(Catalyst1)\n",
    "len2=len(Catalyst2)"
   ]
  },
  {
   "cell_type": "code",
   "execution_count": 70,
   "id": "698ea732-4a4f-47c1-9bfc-14215744174f",
   "metadata": {},
   "outputs": [
    {
     "data": {
      "text/plain": [
       "5.688314285714299"
      ]
     },
     "execution_count": 70,
     "metadata": {},
     "output_type": "execute_result"
    }
   ],
   "source": [
    "std1**2"
   ]
  },
  {
   "cell_type": "code",
   "execution_count": 71,
   "id": "6e3966a0-45ab-4ca2-9262-ab73a72039d2",
   "metadata": {},
   "outputs": [
    {
     "name": "stdout",
     "output_type": "stream",
     "text": [
      "The pooled standard deviation of the samples is:  4.041526850797146\n"
     ]
    }
   ],
   "source": [
    "s_pooled_squared=( ( ((len1-1)*(std1**2)) + ((len2-1)*(std2**2)) ) / (len1+len2-2) )\n",
    "s_pooled=np.sqrt(s_pooled_squared)\n",
    "print(\"The pooled standard deviation of the samples is:  \"+str(s_pooled))"
   ]
  },
  {
   "cell_type": "code",
   "execution_count": 72,
   "id": "f9c527c1-fa8f-4a10-aa01-03263d24d745",
   "metadata": {},
   "outputs": [
    {
     "name": "stdout",
     "output_type": "stream",
     "text": [
      "The standard error of the difference is: 2.020763425398573\n"
     ]
    }
   ],
   "source": [
    "StandErrorDiff=( s_pooled*(np.sqrt(1/len1+1/len2)) )\n",
    "print(\"The standard error of the difference is: \"+str(StandErrorDiff))"
   ]
  },
  {
   "cell_type": "code",
   "execution_count": 73,
   "id": "202dcb0e-f15f-494c-9a7b-c949eec14d8d",
   "metadata": {},
   "outputs": [
    {
     "data": {
      "text/plain": [
       "2.856593665268591"
      ]
     },
     "execution_count": 73,
     "metadata": {},
     "output_type": "execute_result"
    }
   ],
   "source": [
    "#compute the test statistic\n",
    "t_statistic=(diffinmeans / StandErrorDiff)\n",
    "t_statistic"
   ]
  },
  {
   "cell_type": "code",
   "execution_count": null,
   "id": "e2772a1c-9c1a-4f8e-b1a3-c8fefe2d0201",
   "metadata": {},
   "outputs": [],
   "source": []
  },
  {
   "cell_type": "code",
   "execution_count": null,
   "id": "96c63f89-9918-4de4-9020-06c9a3262854",
   "metadata": {},
   "outputs": [],
   "source": []
  },
  {
   "cell_type": "code",
   "execution_count": null,
   "id": "0bc786ff-eaed-4526-a8e8-82103f61e562",
   "metadata": {},
   "outputs": [],
   "source": []
  },
  {
   "cell_type": "markdown",
   "id": "ce0913b7-60b6-4286-af5e-8b0faaaa20f6",
   "metadata": {},
   "source": [
    "What is the critical value for this test?"
   ]
  },
  {
   "cell_type": "code",
   "execution_count": 74,
   "id": "e88e4427-143b-4a39-816f-5e0a1356e1bd",
   "metadata": {},
   "outputs": [
    {
     "name": "stdout",
     "output_type": "stream",
     "text": [
      "2.1447866879169273\n"
     ]
    }
   ],
   "source": [
    "# Find the critical value\n",
    "Critical_t=stats.t.ppf(0.975,(len1+len2-2))\n",
    "print(Critical_t)"
   ]
  },
  {
   "cell_type": "code",
   "execution_count": null,
   "id": "393d450d-7d68-40d2-8ff8-736a551324da",
   "metadata": {},
   "outputs": [],
   "source": []
  },
  {
   "cell_type": "code",
   "execution_count": null,
   "id": "b5bb1021-287c-4005-99b1-26f83f7c26b9",
   "metadata": {},
   "outputs": [],
   "source": []
  },
  {
   "cell_type": "markdown",
   "id": "bc9e4a9c-8b2c-4597-878a-f596b20bc2f8",
   "metadata": {},
   "source": [
    "What is the p-value for this test?"
   ]
  },
  {
   "cell_type": "code",
   "execution_count": 75,
   "id": "0f57432a-8800-4747-8cc7-5d0121a01567",
   "metadata": {},
   "outputs": [
    {
     "data": {
      "text/plain": [
       "0.006341934501207569"
      ]
     },
     "execution_count": 75,
     "metadata": {},
     "output_type": "execute_result"
    }
   ],
   "source": [
    "1-(stats.t.cdf(t_statistic,(len1+len2-2)))"
   ]
  },
  {
   "cell_type": "code",
   "execution_count": 76,
   "id": "b5490b83-7e76-45f5-a5ae-060c484183ec",
   "metadata": {},
   "outputs": [
    {
     "data": {
      "text/plain": [
       "0.012683869002415138"
      ]
     },
     "execution_count": 76,
     "metadata": {},
     "output_type": "execute_result"
    }
   ],
   "source": [
    "# calculate the p-value\n",
    "2*(1-stats.t.cdf(t_statistic,(len1+len2-2)))"
   ]
  },
  {
   "cell_type": "code",
   "execution_count": null,
   "id": "05f28af0-9290-4a7c-b6fe-42042a1dcd60",
   "metadata": {},
   "outputs": [],
   "source": []
  },
  {
   "cell_type": "code",
   "execution_count": null,
   "id": "1949f31a-0a1f-4061-b763-94ac56a6f9b5",
   "metadata": {},
   "outputs": [],
   "source": []
  },
  {
   "cell_type": "markdown",
   "id": "3ec73d00-8247-4a5c-a3fd-2f8fa40340e4",
   "metadata": {},
   "source": []
  },
  {
   "cell_type": "code",
   "execution_count": null,
   "id": "c12a0342-c464-4cfe-a28c-1f4f22a0f5c9",
   "metadata": {},
   "outputs": [],
   "source": []
  },
  {
   "cell_type": "markdown",
   "id": "c712842c-4dc5-4f0d-b337-a7555ec5fb31",
   "metadata": {},
   "source": [
    "# 95% CI of the difference between the means"
   ]
  },
  {
   "cell_type": "code",
   "execution_count": 77,
   "id": "745c25d9-684f-4dbd-be34-353b40657970",
   "metadata": {},
   "outputs": [
    {
     "name": "stdout",
     "output_type": "stream",
     "text": [
      "1.4383935057757524\n",
      "10.106606494224291\n"
     ]
    }
   ],
   "source": [
    "LB=(diffinmeans) - Critical_t*s_pooled* (np.sqrt(1/len1 + 1/len2))\n",
    "UB=(diffinmeans) + Critical_t*s_pooled* (np.sqrt(1/len1 + 1/len2))\n",
    "print(LB)\n",
    "print(UB)"
   ]
  },
  {
   "cell_type": "code",
   "execution_count": 78,
   "id": "8972fbcd-2db8-4fb8-93fb-4808e3b17491",
   "metadata": {},
   "outputs": [
    {
     "data": {
      "text/plain": [
       "(1.4383935057757524, 10.106606494224291)"
      ]
     },
     "execution_count": 78,
     "metadata": {},
     "output_type": "execute_result"
    }
   ],
   "source": [
    "# Check with python\n",
    "import statsmodels.api as sm\n",
    "import statsmodels as sm\n",
    "CI_t=sm.stats.weightstats._tconfint_generic(diffinmeans,StandErrorDiff,(len1+len2-2),0.05,alternative='two-sided')\n",
    "CI_t"
   ]
  },
  {
   "cell_type": "code",
   "execution_count": null,
   "id": "f539f166-242a-4111-a948-2c6bc70a7fe0",
   "metadata": {},
   "outputs": [],
   "source": []
  },
  {
   "cell_type": "code",
   "execution_count": null,
   "id": "b7eb0ae7-54d9-4eaa-9f54-de8b9eaac10e",
   "metadata": {},
   "outputs": [],
   "source": []
  },
  {
   "cell_type": "markdown",
   "id": "f9a06547-4bfb-4b08-8d3f-3aaec311f24f",
   "metadata": {},
   "source": [
    "What would happen if you made the confidence level smaller?"
   ]
  },
  {
   "cell_type": "code",
   "execution_count": null,
   "id": "669e2e09-4666-4d51-a50b-08c100521045",
   "metadata": {},
   "outputs": [],
   "source": []
  },
  {
   "cell_type": "code",
   "execution_count": null,
   "id": "6a6dcd53-05f8-497f-a720-fc6b6672486f",
   "metadata": {},
   "outputs": [],
   "source": []
  },
  {
   "cell_type": "code",
   "execution_count": null,
   "id": "85050bea-1bee-4111-bb6b-52a06d187bd3",
   "metadata": {},
   "outputs": [],
   "source": []
  },
  {
   "cell_type": "code",
   "execution_count": null,
   "id": "b2bc565f-2297-46fe-93b8-64c45d29fceb",
   "metadata": {},
   "outputs": [],
   "source": []
  },
  {
   "cell_type": "code",
   "execution_count": null,
   "id": "a467c1b0-8786-4c05-ad39-8ca66718d2a4",
   "metadata": {},
   "outputs": [],
   "source": []
  },
  {
   "cell_type": "code",
   "execution_count": null,
   "id": "bbfd3553-ea7c-4904-bd43-458b68e1e932",
   "metadata": {},
   "outputs": [],
   "source": []
  },
  {
   "cell_type": "markdown",
   "id": "eba7ee05-dcfd-4f67-8751-6cc9ad48f722",
   "metadata": {},
   "source": [
    "The 90% CI is narrower because you have less confidence that your interval covers the true mean.  The margin of error decreases and narrows the CI because you are increasing the alpha signifincace level which decreases the critical value at a set dof."
   ]
  },
  {
   "cell_type": "code",
   "execution_count": 79,
   "id": "69743a4e-ecfe-41eb-95e7-6b068851c8f6",
   "metadata": {},
   "outputs": [
    {
     "data": {
      "text/plain": [
       "(2.213308896842398, 9.331691103157645)"
      ]
     },
     "execution_count": 79,
     "metadata": {},
     "output_type": "execute_result"
    }
   ],
   "source": [
    "CI_tA=sm.stats.weightstats._tconfint_generic(diffinmeans,StandErrorDiff,(len1+len2-2),0.1,alternative='two-sided')\n",
    "CI_tA"
   ]
  },
  {
   "cell_type": "code",
   "execution_count": 80,
   "id": "a6443527-bdc1-43fa-a3f4-c260cae74200",
   "metadata": {},
   "outputs": [
    {
     "name": "stdout",
     "output_type": "stream",
     "text": [
      "1.7613101357748562\n"
     ]
    }
   ],
   "source": [
    "# Find the critical value at 0.1\n",
    "Critical_tA=stats.t.ppf(0.95,(len1+len2-2))\n",
    "print(Critical_tA)"
   ]
  },
  {
   "cell_type": "code",
   "execution_count": null,
   "id": "7f3800fb-b5fb-40ee-a243-0c96cb72397d",
   "metadata": {},
   "outputs": [],
   "source": []
  },
  {
   "cell_type": "code",
   "execution_count": null,
   "id": "923974a2-b431-40ca-9d14-7a9dcf633acf",
   "metadata": {},
   "outputs": [],
   "source": []
  },
  {
   "cell_type": "code",
   "execution_count": null,
   "id": "ff86de78-0d6a-4fe7-be7f-42ccb98605a7",
   "metadata": {},
   "outputs": [],
   "source": []
  },
  {
   "cell_type": "code",
   "execution_count": 48,
   "id": "1b3e1793-0e05-41ee-bfbc-826ed8ce8e22",
   "metadata": {},
   "outputs": [
    {
     "data": {
      "text/plain": [
       "0.005867741715332553"
      ]
     },
     "execution_count": 48,
     "metadata": {},
     "output_type": "execute_result"
    }
   ],
   "source": [
    "1-norm.cdf(2.52)"
   ]
  },
  {
   "cell_type": "code",
   "execution_count": null,
   "id": "a15c7ccd-ed2b-4d81-8f4d-8ec9e51faa7c",
   "metadata": {},
   "outputs": [],
   "source": []
  }
 ],
 "metadata": {
  "kernelspec": {
   "display_name": "Python 3 (ipykernel)",
   "language": "python",
   "name": "python3"
  },
  "language_info": {
   "codemirror_mode": {
    "name": "ipython",
    "version": 3
   },
   "file_extension": ".py",
   "mimetype": "text/x-python",
   "name": "python",
   "nbconvert_exporter": "python",
   "pygments_lexer": "ipython3",
   "version": "3.9.13"
  }
 },
 "nbformat": 4,
 "nbformat_minor": 5
}
