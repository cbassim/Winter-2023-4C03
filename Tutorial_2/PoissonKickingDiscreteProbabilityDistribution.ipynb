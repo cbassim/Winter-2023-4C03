{
 "cells": [
  {
   "cell_type": "code",
   "execution_count": 2,
   "id": "3f81d157-5101-4626-a2da-8ef964ff2167",
   "metadata": {},
   "outputs": [],
   "source": [
    "import numpy as np\n",
    "import pandas as pd\n",
    "import matplotlib.pyplot as plt\n",
    "import seaborn as sns\n",
    "\n",
    "sns.set_style(\"white\")"
   ]
  },
  {
   "cell_type": "code",
   "execution_count": null,
   "id": "1b677fe5-48f9-4fcc-830d-abcecde87687",
   "metadata": {},
   "outputs": [],
   "source": []
  },
  {
   "cell_type": "code",
   "execution_count": 8,
   "id": "8c685bcd-601e-42b8-8238-7b3ee77dda98",
   "metadata": {},
   "outputs": [
    {
     "data": {
      "text/plain": [
       "Text(0.5, 9.444444444444438, 'Number of Deaths in 1 year (in a single corps)')"
      ]
     },
     "execution_count": 8,
     "metadata": {},
     "output_type": "execute_result"
    },
    {
     "data": {
      "image/png": "[encoded data removed]",
      "text/plain": [
       "<Figure size 500x500 with 1 Axes>"
      ]
     },
     "metadata": {},
     "output_type": "display_data"
    }
   ],
   "source": [
    "# Horse Kicks\n",
    "rateHK=0.7\n",
    "poisson_rvsHK=poisson.rvs(rateHK,size=280)\n",
    "ax1=sns.displot(poisson_rvsHK,stat='count')\n",
    "plt.xlabel(\"Number of Deaths in 1 year (in a single corps)\")"
   ]
  },
  {
   "cell_type": "code",
   "execution_count": 10,
   "id": "9e25446d-fe21-4512-95b6-4b8bc7d571d3",
   "metadata": {},
   "outputs": [
    {
     "name": "stdout",
     "output_type": "stream",
     "text": [
      "[0.4965853  0.34760971 0.1216634  0.02838813 0.00496792]\n"
     ]
    }
   ],
   "source": [
    "xPoissonHK=np.arange(0,5,1)\n",
    "poisson_pmfHK=poisson.pmf(xPoissonHK,rateHK)\n",
    "print(poisson_pmfHK)"
   ]
  },
  {
   "cell_type": "code",
   "execution_count": 62,
   "id": "517a569b-153f-41a3-a155-db956f5667e9",
   "metadata": {},
   "outputs": [],
   "source": [
    "predicted_deaths=poisson_pmfHK*280"
   ]
  },
  {
   "cell_type": "code",
   "execution_count": 63,
   "id": "4897d4d3-d187-45a7-9f81-21e29a5af1b8",
   "metadata": {},
   "outputs": [
    {
     "data": {
      "text/plain": [
       "array([139.04388506,  97.33071954,  34.06575184,   7.94867543,\n",
       "         1.3910182 ])"
      ]
     },
     "execution_count": 63,
     "metadata": {},
     "output_type": "execute_result"
    }
   ],
   "source": [
    "predicted_deaths"
   ]
  },
  {
   "cell_type": "code",
   "execution_count": 112,
   "id": "eb6952da-7c2c-45ca-8451-c92d57cefa37",
   "metadata": {},
   "outputs": [],
   "source": [
    "actual_deaths=(144,91,32,11,2)"
   ]
  },
  {
   "cell_type": "code",
   "execution_count": 117,
   "id": "eca5935b-a71d-4b43-9d07-0083a859c6f7",
   "metadata": {},
   "outputs": [],
   "source": [
    "dfHK=pd.Series([139.04,97.33,34.07,7.95,1.39,144,91,32,11,2],name=\"corps with X deaths in a year\")"
   ]
  },
  {
   "cell_type": "code",
   "execution_count": 118,
   "id": "9f1f8527-5814-490c-b807-735b0724a34a",
   "metadata": {},
   "outputs": [
    {
     "data": {
      "text/html": [
       "<div>\n",
       "<style scoped>\n",
       "    .dataframe tbody tr th:only-of-type {\n",
       "        vertical-align: middle;\n",
       "    }\n",
       "\n",
       "    .dataframe tbody tr th {\n",
       "        vertical-align: top;\n",
       "    }\n",
       "\n",
       "    .dataframe thead th {\n",
       "        text-align: right;\n",
       "    }\n",
       "</style>\n",
       "<table border=\"1\" class=\"dataframe\">\n",
       "  <thead>\n",
       "    <tr style=\"text-align: right;\">\n",
       "      <th></th>\n",
       "      <th>corps with X deaths in a year</th>\n",
       "      <th>X</th>\n",
       "      <th>hue</th>\n",
       "    </tr>\n",
       "  </thead>\n",
       "  <tbody>\n",
       "    <tr>\n",
       "      <th>0</th>\n",
       "      <td>139.04</td>\n",
       "      <td>0</td>\n",
       "      <td>predicted</td>\n",
       "    </tr>\n",
       "    <tr>\n",
       "      <th>1</th>\n",
       "      <td>97.33</td>\n",
       "      <td>1</td>\n",
       "      <td>predicted</td>\n",
       "    </tr>\n",
       "    <tr>\n",
       "      <th>2</th>\n",
       "      <td>34.07</td>\n",
       "      <td>2</td>\n",
       "      <td>predicted</td>\n",
       "    </tr>\n",
       "    <tr>\n",
       "      <th>3</th>\n",
       "      <td>7.95</td>\n",
       "      <td>3</td>\n",
       "      <td>predicted</td>\n",
       "    </tr>\n",
       "    <tr>\n",
       "      <th>4</th>\n",
       "      <td>1.39</td>\n",
       "      <td>4</td>\n",
       "      <td>predicted</td>\n",
       "    </tr>\n",
       "    <tr>\n",
       "      <th>5</th>\n",
       "      <td>144.00</td>\n",
       "      <td>0</td>\n",
       "      <td>actual</td>\n",
       "    </tr>\n",
       "    <tr>\n",
       "      <th>6</th>\n",
       "      <td>91.00</td>\n",
       "      <td>1</td>\n",
       "      <td>actual</td>\n",
       "    </tr>\n",
       "    <tr>\n",
       "      <th>7</th>\n",
       "      <td>32.00</td>\n",
       "      <td>2</td>\n",
       "      <td>actual</td>\n",
       "    </tr>\n",
       "    <tr>\n",
       "      <th>8</th>\n",
       "      <td>11.00</td>\n",
       "      <td>3</td>\n",
       "      <td>actual</td>\n",
       "    </tr>\n",
       "    <tr>\n",
       "      <th>9</th>\n",
       "      <td>2.00</td>\n",
       "      <td>4</td>\n",
       "      <td>actual</td>\n",
       "    </tr>\n",
       "  </tbody>\n",
       "</table>\n",
       "</div>"
      ],
      "text/plain": [
       "   corps with X deaths in a year  X        hue\n",
       "0                         139.04  0  predicted\n",
       "1                          97.33  1  predicted\n",
       "2                          34.07  2  predicted\n",
       "3                           7.95  3  predicted\n",
       "4                           1.39  4  predicted\n",
       "5                         144.00  0     actual\n",
       "6                          91.00  1     actual\n",
       "7                          32.00  2     actual\n",
       "8                          11.00  3     actual\n",
       "9                           2.00  4     actual"
      ]
     },
     "execution_count": 118,
     "metadata": {},
     "output_type": "execute_result"
    }
   ],
   "source": [
    "dfHK=pd.DataFrame(dfHK)\n",
    "dfHK[\"X\"]=[0,1,2,3,4,0,1,2,3,4]\n",
    "dfHK[\"hue\"]=[\"predicted\",\"predicted\",\"predicted\",\"predicted\",\"predicted\",\"actual\",\"actual\",\"actual\",\"actual\",\"actual\"]\n",
    "dfHK"
   ]
  },
  {
   "cell_type": "code",
   "execution_count": 121,
   "id": "acc0169e-d761-4878-8ea8-6ea21627acfc",
   "metadata": {
    "scrolled": true,
    "tags": []
   },
   "outputs": [
    {
     "data": {
      "text/plain": [
       "<AxesSubplot:xlabel='X', ylabel='corps with X deaths in a year'>"
      ]
     },
     "execution_count": 121,
     "metadata": {},
     "output_type": "execute_result"
    },
    {
     "data": {
      "image/png": "[encoded data removed]",
      "text/plain": [
       "<Figure size 640x480 with 1 Axes>"
      ]
     },
     "metadata": {},
     "output_type": "display_data"
    }
   ],
   "source": [
    "sns.barplot(x=\"X\",y='corps with X deaths in a year',hue=\"hue\",data=dfHK)"
   ]
  },
  {
   "cell_type": "code",
   "execution_count": null,
   "id": "afb8907c-6f29-4e82-bf9b-6a0c9d550e8e",
   "metadata": {},
   "outputs": [],
   "source": []
  },
  {
   "cell_type": "code",
   "execution_count": null,
   "id": "6240d3c5-9fbd-462e-a426-3522d856572c",
   "metadata": {},
   "outputs": [],
   "source": []
  }
 ],
 "metadata": {
  "kernelspec": {
   "display_name": "Python 3 (ipykernel)",
   "language": "python",
   "name": "python3"
  },
  "language_info": {
   "codemirror_mode": {
    "name": "ipython",
    "version": 3
   },
   "file_extension": ".py",
   "mimetype": "text/x-python",
   "name": "python",
   "nbconvert_exporter": "python",
   "pygments_lexer": "ipython3",
   "version": "3.9.13"
  }
 },
 "nbformat": 4,
 "nbformat_minor": 5
}
