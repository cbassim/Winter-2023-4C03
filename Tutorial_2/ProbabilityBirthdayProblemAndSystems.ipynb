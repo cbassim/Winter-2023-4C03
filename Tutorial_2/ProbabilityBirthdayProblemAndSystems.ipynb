{
 "cells": [
  {
   "cell_type": "code",
   "execution_count": 1,
   "id": "b72d4699-8921-4042-9b10-a9b6c2d52f4a",
   "metadata": {},
   "outputs": [],
   "source": [
    "import numpy as np\n",
    "import pandas as pd\n",
    "import matplotlib.pyplot as plt\n",
    "import seaborn as sns"
   ]
  },
  {
   "cell_type": "markdown",
   "id": "2ca7ed2b-f0bb-4e28-87a5-66bcfd1351ff",
   "metadata": {},
   "source": [
    "# Probability\n",
    "\n",
    "Let's explore the probability of any two people having the same birthday out of a group of people.\n",
    "\n",
    "First:  what is the probability of a person having a specific birthday out of the year?\n",
    "\n",
    "Assume to simplfy the problem:  The year is 365 days and that there is a equally likely to to be on any of the days, independently from the other people in the group.  "
   ]
  },
  {
   "cell_type": "code",
   "execution_count": 2,
   "id": "a256111c-9c86-4cc0-b780-1e1a40b36c36",
   "metadata": {},
   "outputs": [
    {
     "data": {
      "text/plain": [
       "0.0027397260273972603"
      ]
     },
     "execution_count": 2,
     "metadata": {},
     "output_type": "execute_result"
    }
   ],
   "source": [
    "1/365"
   ]
  },
  {
   "cell_type": "markdown",
   "id": "dd546ce4-3956-42c7-b68f-68bf75e731f4",
   "metadata": {},
   "source": [
    "What is probability of a specific birthday out of 1 million people?"
   ]
  },
  {
   "cell_type": "markdown",
   "id": "b299d093-2b32-45f1-9691-30f16655520c",
   "metadata": {},
   "source": [
    "Let's set up a simulation of 1,000,000 people in a room and look at the distribution of their birthdays, numbering the days as 1 to 365."
   ]
  },
  {
   "cell_type": "code",
   "execution_count": 3,
   "id": "64c2dddc-d73a-4dcd-9c23-adc60628a87f",
   "metadata": {},
   "outputs": [],
   "source": [
    "#  import the uniform discrete function\n",
    "from scipy.stats import randint\n",
    "# 1 million people's birthdays\n",
    "randomvarUniform_oneM=randint.rvs(1,366,size=1000000)\n",
    "#print(randomvarUniform_oneM)"
   ]
  },
  {
   "cell_type": "code",
   "execution_count": 4,
   "id": "f79ebebb-f44d-4870-996a-eb0dc0d5d309",
   "metadata": {},
   "outputs": [
    {
     "data": {
      "text/plain": [
       "<AxesSubplot:ylabel='Count'>"
      ]
     },
     "execution_count": 4,
     "metadata": {},
     "output_type": "execute_result"
    },
    {
     "data": {
      "image/png": "[encoded data removed]",
      "text/plain": [
       "<Figure size 432x288 with 1 Axes>"
      ]
     },
     "metadata": {
      "needs_background": "light"
     },
     "output_type": "display_data"
    }
   ],
   "source": [
    "sns.histplot(randomvarUniform_oneM,stat='count',bins='auto')"
   ]
  },
  {
   "cell_type": "code",
   "execution_count": 5,
   "id": "96fe6a25-6297-4025-aaec-3c1fb6682d58",
   "metadata": {},
   "outputs": [
    {
     "data": {
      "text/plain": [
       "<AxesSubplot:ylabel='Density'>"
      ]
     },
     "execution_count": 5,
     "metadata": {},
     "output_type": "execute_result"
    },
    {
     "data": {
      "image/png": "[encoded data removed]",
      "text/plain": [
       "<Figure size 432x288 with 1 Axes>"
      ]
     },
     "metadata": {
      "needs_background": "light"
     },
     "output_type": "display_data"
    }
   ],
   "source": [
    "sns.histplot(randomvarUniform_oneM,stat='density',bins='auto')"
   ]
  },
  {
   "cell_type": "markdown",
   "id": "2da20b6c-ab95-439c-8b18-5a35d6b9e9e8",
   "metadata": {},
   "source": [
    "The law of large numbers (LLN) is a theorem in probability that describes the result of performing the same experiment a large number of times. The average of the results obtained from a large number of trials should be close to the expected value and tends to become closer to the expected value as more trials are performed.  The LLN is important because it guarantees stable long-term results for the averages of random events."
   ]
  },
  {
   "cell_type": "markdown",
   "id": "1d9e0a70-e598-4f39-9dbf-e3f31f5b68d2",
   "metadata": {},
   "source": [
    "This looks pretty close to the long-run probability that we found using 1/365 = 0.0027\n",
    "\n",
    "Now let's look at the probability using 50 people.  Since this is not a large number for our sample of the true distribution, we will probably have a imperfect understanding of the underlying probability, but it will be our best guess."
   ]
  },
  {
   "cell_type": "code",
   "execution_count": 6,
   "id": "640f5dbc-dadc-48a7-b243-b63a69b89f61",
   "metadata": {},
   "outputs": [
    {
     "name": "stdout",
     "output_type": "stream",
     "text": [
      "[131 208 256  77 108 300 133 202 148  79 189   5  17  72 300 104 165 352\n",
      " 208 151 180  34 353 113  57 190 333 247 129   6 120 134 188 105  98  19\n",
      " 273 133  63 247  11 300 230  13  22 124  47 199 197  44]\n"
     ]
    }
   ],
   "source": [
    "# 50 people's birthdays\n",
    "randomvarUniform_fifty=randint.rvs(1,366,size=50)\n",
    "print(randomvarUniform_fifty)"
   ]
  },
  {
   "cell_type": "code",
   "execution_count": 7,
   "id": "f7ec7f18-a717-4da1-9ef0-d2e24333818c",
   "metadata": {},
   "outputs": [
    {
     "data": {
      "text/plain": [
       "<AxesSubplot:ylabel='Count'>"
      ]
     },
     "execution_count": 7,
     "metadata": {},
     "output_type": "execute_result"
    },
    {
     "data": {
      "image/png": "[encoded data removed]",
      "text/plain": [
       "<Figure size 432x288 with 1 Axes>"
      ]
     },
     "metadata": {
      "needs_background": "light"
     },
     "output_type": "display_data"
    }
   ],
   "source": [
    "sns.histplot(randomvarUniform_fifty,stat='count',bins=50)"
   ]
  },
  {
   "cell_type": "code",
   "execution_count": 8,
   "id": "77ba2a68-ec48-4066-ab63-4e0380485f04",
   "metadata": {},
   "outputs": [
    {
     "data": {
      "text/plain": [
       "<AxesSubplot:ylabel='Density'>"
      ]
     },
     "execution_count": 8,
     "metadata": {},
     "output_type": "execute_result"
    },
    {
     "data": {
      "image/png": "[encoded data removed]",
      "text/plain": [
       "<Figure size 432x288 with 1 Axes>"
      ]
     },
     "metadata": {
      "needs_background": "light"
     },
     "output_type": "display_data"
    }
   ],
   "source": [
    "sns.histplot(randomvarUniform_fifty,stat='density',bins=50)"
   ]
  },
  {
   "cell_type": "markdown",
   "id": "79975afc-0948-49cc-8a3a-253217ca80f8",
   "metadata": {},
   "source": [
    "It looks like several people have the same birthday! The empirical probability of having the same birthday is higher than that of having any specific birthday.  Does this suprise you?  This is the foundation of the probability birthday problem: What is the probability of at least 2 people having the same birthday in some group of size n?\n",
    "\n",
    "Before we find this, let's change the question and ask:  What is the probability of of finding two people in our group of 50 with the same specific birthday? \n",
    "\n",
    "Probability of event A (1st Person having birthday on day 1) AND probability of event B (2nd Person having birthday on day 1)?\n",
    "\n",
    "What is the relevant probability law?  \n",
    "**Statistically independent events: Use the specific multiplication law of probability.**  \n",
    "\n",
    "P(1stPerson) = 1/365 = 0.0027  \n",
    "P(2ndPerson) = 1/365 = 0.0027  \n",
    "\n",
    "P (A AND B) = P(1stPerson) * P(2ndPerson)= 0.0027 * 0.0027 = 0.0000073\n",
    "\n",
    "What is the probability of 5 people having the same speicfic birthday?\n",
    "\n",
    "P(A AND B AND C AND D AND E) = 0.0027^5 = 1.43*e-13\n",
    "            \n",
    "These are low chances!  This is what we are generally thinking about for the birthday problem.  "
   ]
  },
  {
   "cell_type": "code",
   "execution_count": 9,
   "id": "7c285036-9dcf-4a42-b5f1-0391891f43fe",
   "metadata": {},
   "outputs": [
    {
     "data": {
      "text/plain": [
       "1.4348907000000003e-13"
      ]
     },
     "execution_count": 9,
     "metadata": {},
     "output_type": "execute_result"
    }
   ],
   "source": [
    "0.0027**5"
   ]
  },
  {
   "cell_type": "markdown",
   "id": "19308940-ae5c-4a97-86bc-acdb654c6c4b",
   "metadata": {},
   "source": [
    "**Complement Rule**\n",
    "\n",
    "What is the probability of at least 1 of these 5 people having the specifc birthday?\n",
    "\n",
    "Because the event of at least 1 person having a specific birthday is mutually exclusive to the event of having no one with the specific birthday, you can use the complement rule to state that P(at least 1 person) = 1 - P(no persons).  The entire probabilities of the event have to add up to 1. \n",
    "\n",
    "The probability of no persons in the group of 5 having the specific birthday = (364/365)^5 = (0.997)^5 = 0.986\n",
    "\n",
    "So the probability of at least 1 person in group of 5 = 1 - P(no persons) = 1 - 0.986 ~ 0.014"
   ]
  },
  {
   "cell_type": "markdown",
   "id": "60f0f64e-0c7c-4d51-8a99-52ff0e5c5fdd",
   "metadata": {},
   "source": [
    "**Conditional Probability**\n",
    "\n",
    "But the birthday problem is asking: What is the probability of at least 2 people having a shared birthday in some group of size n? \n",
    "\n",
    "To compute this we can turn to permutations or to conditional probability. \n",
    "\n",
    "What is the probability of a 2nd person having a birthday GIVEN that a first person has a specific birthday?  This is a dependent or non-independent event.  This opens up all of the comparisions for each person against each person.\n",
    "\n",
    "P(2ndPerson|1stPerson) = P(B|A) = $\\frac{P(A (AND) B)}{P(A)}$\n",
    "\n",
    "P(A AND B) = P(A) * P(B|A)\n",
    "\n",
    "It is easier to find the complement of the probability of no two people in the group have a shared birthday, so invoke the complement rule:      \n",
    "\n",
    "P(at least 2 people with a shared birthday) = 1 - P(no people with a shared birthday)\n",
    "\n",
    "P(A AND B) = probability that no 2 people share a birthday"
   ]
  },
  {
   "cell_type": "markdown",
   "id": "65321de9-b687-407a-b805-81821a43de0d",
   "metadata": {},
   "source": [
    "Let's find the probability of no 2 people sharing a birthday out of 5 people.\n",
    "\n",
    "= P(A) * P(B|A) * P(C|B) * P(D|C) * P(E|D)\n",
    "= 1 * (365-1)/365 * (365-2)/365 * (365-3)/365 * (365-4)/365 * (365-5)/365  \n",
    "= 1 * 0.997 * 0.995 * 0.992 * 0.989   \n",
    "= 0.973\n",
    "\n",
    "P(at least 2 sharing a birthday in 5 people) = 1 - 0.973 = 0.027"
   ]
  },
  {
   "cell_type": "markdown",
   "id": "3cc15797-b8ba-49a4-978d-bcd3caa964d7",
   "metadata": {},
   "source": [
    "Generalized rule for this problem:  1*(364/365)*(363/365)*...*(365-n+1)/365) \n",
    "\n",
    "We can find this generalized form for n=5:"
   ]
  },
  {
   "cell_type": "code",
   "execution_count": 10,
   "id": "16e59af5-664f-4d73-9504-44a6aa54888c",
   "metadata": {},
   "outputs": [],
   "source": [
    "import math\n",
    "nBDay= 5\n",
    "BDayParadoxProb=1-((math.factorial(365))/(((365**nBDay) *math.factorial(365-nBDay))))"
   ]
  },
  {
   "cell_type": "code",
   "execution_count": 11,
   "id": "f047ce0c-242a-4930-a97c-5a2ff54dfc74",
   "metadata": {},
   "outputs": [
    {
     "data": {
      "text/plain": [
       "0.02713557369979358"
      ]
     },
     "execution_count": 11,
     "metadata": {},
     "output_type": "execute_result"
    }
   ],
   "source": [
    "BDayParadoxProb"
   ]
  },
  {
   "cell_type": "markdown",
   "id": "5961790f-9965-4ad1-b5b1-856ee8d72e3d",
   "metadata": {},
   "source": [
    "And then use it to graph the probabilities a range of n"
   ]
  },
  {
   "cell_type": "code",
   "execution_count": 12,
   "id": "fcdbad28-548e-4f1a-a18f-a3de07581c01",
   "metadata": {},
   "outputs": [],
   "source": [
    "def BDayParadoxProbi(nBDayi):\n",
    "    BDayParadoxProbA=[]\n",
    "    for i in range(1,nBDayi+1):\n",
    "            BDayParadoxProb=1-((math.factorial(365))/(((365**i) *math.factorial(365-i))))\n",
    "            BDayParadoxProbA.append(BDayParadoxProb)\n",
    "            #print(BDayParadoxProbA)\n",
    "    return BDayParadoxProbA"
   ]
  },
  {
   "cell_type": "code",
   "execution_count": 13,
   "id": "939d702e-c791-4b6b-92c9-e7f6009b1985",
   "metadata": {},
   "outputs": [
    {
     "name": "stdout",
     "output_type": "stream",
     "text": [
      "[0.0, 0.002739726027397249, 0.008204165884781345, 0.016355912466550326, 0.02713557369979358]\n"
     ]
    }
   ],
   "source": [
    "nBDayi=5\n",
    "BDayParadoxAA=BDayParadoxProbi(nBDayi)\n",
    "print(BDayParadoxAA)"
   ]
  },
  {
   "cell_type": "code",
   "execution_count": 14,
   "id": "e1bd112a-e104-47c0-a4fa-953b269e5af3",
   "metadata": {},
   "outputs": [
    {
     "name": "stderr",
     "output_type": "stream",
     "text": [
      "C:\\Users\\carol\\anaconda3\\lib\\site-packages\\seaborn\\_decorators.py:36: FutureWarning: Pass the following variables as keyword args: x, y. From version 0.12, the only valid positional argument will be `data`, and passing other arguments without an explicit keyword will result in an error or misinterpretation.\n",
      "  warnings.warn(\n"
     ]
    },
    {
     "data": {
      "text/plain": [
       "Text(0, 0.5, 'probability')"
      ]
     },
     "execution_count": 14,
     "metadata": {},
     "output_type": "execute_result"
    },
    {
     "data": {
      "image/png": "[encoded data removed]",
      "text/plain": [
       "<Figure size 432x288 with 1 Axes>"
      ]
     },
     "metadata": {
      "needs_background": "light"
     },
     "output_type": "display_data"
    }
   ],
   "source": [
    "sns.lineplot(range(1,nBDayi+1),BDayParadoxAA)\n",
    "plt.xlabel(\"number\")\n",
    "plt.ylabel(\"probability\")"
   ]
  },
  {
   "cell_type": "code",
   "execution_count": 15,
   "id": "b912f2cb-7d45-4ae2-87a3-40819ada2c04",
   "metadata": {},
   "outputs": [
    {
     "name": "stdout",
     "output_type": "stream",
     "text": [
      "[0.0, 0.002739726027397249, 0.008204165884781345, 0.016355912466550326, 0.02713557369979358, 0.040462483649111536, 0.056235703095975365, 0.07433529235166902, 0.09462383388916673, 0.11694817771107768, 0.141141378321733, 0.16702478883806438, 0.19441027523242937, 0.223102512004973, 0.25290131976368635, 0.2836040052528499, 0.31500766529656066, 0.34691141787178936, 0.37911852603153673, 0.41143838358057994, 0.4436883351652058, 0.4756953076625501, 0.5072972343239854, 0.5383442579145288, 0.5686997039694639, 0.598240820135939, 0.626859282263242, 0.6544614723423994, 0.680968537477777, 0.7063162427192686, 0.7304546337286438, 0.7533475278503207, 0.774971854175772, 0.7953168646201543, 0.8143832388747152, 0.8321821063798795, 0.8487340082163846, 0.8640678210821209, 0.878219664366722, 0.891231809817949, 0.9031516114817354, 0.9140304715618692, 0.9239228556561199, 0.9328853685514263, 0.940975899465775, 0.9482528433672547, 0.9547744028332994, 0.9605979728794224, 0.9657796093226765, 0.9703735795779884, 0.9744319933344283, 0.9780045093342753, 0.9811381134839128, 0.9838769627588515, 0.9862622888164461, 0.9883323548852008, 0.9901224593411699, 0.9916649793892612, 0.992989448417817, 0.994122660865348, 0.9950887988052908, 0.9959095748953655, 0.9966043868309472, 0.9971904789669755, 0.9976831073124921, 0.9980957046404045, 0.9984400429793998, 0.9987263912544141, 0.9989636663083863, 0.9991595759651571, 0.9993207531773187, 0.9994528806414568, 0.9995608055560187, 0.9996486444448149, 0.9997198781738114, 0.9997774374531652, 0.999823779243739, 0.9998609545813611, 0.9998906683968511, 0.9999143319493135]\n"
     ]
    }
   ],
   "source": [
    "nBDayi=80\n",
    "BDayParadoxAA=BDayParadoxProbi(nBDayi)\n",
    "print(BDayParadoxAA)"
   ]
  },
  {
   "cell_type": "markdown",
   "id": "950ea54d-f23f-4c83-a658-a87da5e3a546",
   "metadata": {},
   "source": [
    "The birthday paradox is that the number of people needed in a group seems low to have a birthday match.  Here we graph a group of 80 and see what the probability of a shared birthday (a match) is.  It turns out that the probability of a shared birthday exceeds 50% (is 50.7%) with a n=23 in a group! "
   ]
  },
  {
   "cell_type": "code",
   "execution_count": 16,
   "id": "aa99d492-952c-49f9-b6ae-dbbecb474ac5",
   "metadata": {},
   "outputs": [
    {
     "name": "stderr",
     "output_type": "stream",
     "text": [
      "C:\\Users\\carol\\anaconda3\\lib\\site-packages\\seaborn\\_decorators.py:36: FutureWarning: Pass the following variables as keyword args: x, y. From version 0.12, the only valid positional argument will be `data`, and passing other arguments without an explicit keyword will result in an error or misinterpretation.\n",
      "  warnings.warn(\n"
     ]
    },
    {
     "data": {
      "text/plain": [
       "Text(0, 0.5, 'probability')"
      ]
     },
     "execution_count": 16,
     "metadata": {},
     "output_type": "execute_result"
    },
    {
     "data": {
      "image/png": "[encoded data removed]",
      "text/plain": [
       "<Figure size 432x288 with 1 Axes>"
      ]
     },
     "metadata": {
      "needs_background": "light"
     },
     "output_type": "display_data"
    }
   ],
   "source": [
    "sns.lineplot(range(1,nBDayi+1),BDayParadoxAA)\n",
    "plt.axhline(y=0.5,color=\"red\")\n",
    "plt.axvline(x=23,color=\"red\")\n",
    "plt.xlabel(\"number\")\n",
    "plt.ylabel(\"probability\")"
   ]
  },
  {
   "cell_type": "markdown",
   "id": "ece6b804-12e1-4dfb-8cc8-74392bf7b41d",
   "metadata": {},
   "source": [
    "# Probability in Flow Diagrams or Circuits\n",
    "\n",
    "![](PicTutorial2CircuitsProb.png)"
   ]
  },
  {
   "cell_type": "markdown",
   "id": "f0ca5e64-5cd7-4f77-a712-46bb33a75ba1",
   "metadata": {},
   "source": [
    "What is the probability of the circuit working?\n",
    "\n",
    "P(A)=0.9; P(B)=0.95, P(C)=0.99.  The probability of working are independent of each other.  What is the probability of the circuit working?\n",
    "\n",
    "Partition the graph into groupings.  The first left column works if any or all of the circuit works; these are the general form of either or occuring (not mutually exclusive).  This is an OR or UNION problem for A.  The second group works if any or all of the circuits work for B.  The circuit then works if the independent A circuit work AND the B cicuit works and the C cicuit works.  \n",
    "\n",
    "P(A1)=P(A OR A) = P(A) + P(A) - P(A AND A) = 0.9 +0.9 - 0.9 * 0.9 = 0.99\n",
    "P(A2)= P(A1 OR A) = P(A1) + P(A) - P(A1 AND A)= 0.99 + 0.9 - (.99*.9) = 0.999\n",
    "\n",
    "P(B1) = P(B OR B) = P(B) + P(B) - P(B AND B) = 0.95 +0.95 - (0.95 * 0.95) = 0.9975\n",
    "\n",
    "P(C) = 0.99\n",
    "\n",
    "P(A2 AND B1 AND C) = 0.999 * 0.9975 * 0.99 = 0.9865\n",
    "\n",
    "You could also calculate the columns with the complement of all of them failing, so that the probability of any of them working in column A is 1-(all of them failing) = 1-(0.1)^3 = 0.999"
   ]
  },
  {
   "cell_type": "code",
   "execution_count": null,
   "id": "dd01e412-4fc7-4ac1-a5dc-afb3cf7a7a29",
   "metadata": {},
   "outputs": [],
   "source": []
  },
  {
   "cell_type": "code",
   "execution_count": 17,
   "id": "3f81d157-5101-4626-a2da-8ef964ff2167",
   "metadata": {},
   "outputs": [],
   "source": [
    "import numpy as np\n",
    "import pandas as pd\n",
    "import matplotlib.pyplot as plt\n",
    "import seaborn as sns"
   ]
  },
  {
   "cell_type": "markdown",
   "id": "50ec2af2-cb08-4d21-8604-f4a1026cc839",
   "metadata": {},
   "source": [
    "# Discrete Probability Distributions\n",
    "\n",
    "We will start with a simple discrete probability distribution: the Discrete Uniform Distribution.  In python this is the randint distribution.  The discreet uniform distribution with parameters (a,b) constructs a random variable that has an equal probability of being any one of the intergers in the range of [a,b].  An example is rolling a fair 6 sided die.  [See scipy documentation radnint.](https://docs.scipy.org/doc/scipy/reference/generated/scipy.stats.randint.html)"
   ]
  },
  {
   "cell_type": "code",
   "execution_count": 18,
   "id": "dbd2caac-bd55-4065-b9d7-b684a5cbcbdd",
   "metadata": {},
   "outputs": [
    {
     "name": "stdout",
     "output_type": "stream",
     "text": [
      "2\n"
     ]
    }
   ],
   "source": [
    "#  import the uniform discrete function\n",
    "from scipy.stats import randint\n",
    "#  the low value for a fair die s 1 and the high value is 6; there are 6 possible and equaly likely outcomes\n",
    "# the pmf = 1/(b-a+1) or 1/n\n",
    "n=6\n",
    "# you can run an emperical experiment or simulation to see the emperical probability of the outcome\n",
    "# if you generate random numbers usng a discrete probability distribution then you can plot these\n",
    "#  Lets roll a fair sided die; for the interval of low=low, high=high-1\n",
    "# Here we are saying that there aee 6 outcomes, each of equal probability\n",
    "# We are using the .rsv atribute to produce random variables that fit the specified probability dstribution\n",
    "randomvarUniform=randint.rvs(1,7,loc=0)\n",
    "print(randomvarUniform)"
   ]
  },
  {
   "cell_type": "code",
   "execution_count": 19,
   "id": "d5711b2a-ba4a-4c36-a041-0e218883eccf",
   "metadata": {},
   "outputs": [
    {
     "name": "stdout",
     "output_type": "stream",
     "text": [
      "[5 1 1 5 3 6 6 3 1 2]\n"
     ]
    }
   ],
   "source": [
    "# let's roll the die 10 times\n",
    "randomvarUniform=randint.rvs(1,7,size=10)\n",
    "print(randomvarUniform)"
   ]
  },
  {
   "cell_type": "code",
   "execution_count": 20,
   "id": "5e2da9a0-2034-448d-bfb7-1e589ee6d23b",
   "metadata": {},
   "outputs": [
    {
     "data": {
      "image/png": "[encoded data removed]",
      "text/plain": [
       "<Figure size 360x360 with 1 Axes>"
      ]
     },
     "metadata": {
      "needs_background": "light"
     },
     "output_type": "display_data"
    }
   ],
   "source": [
    "# let's roll it 10,000 times and plot it on a frequency histogram\n",
    "randomvarUniform=randint.rvs(1,7,size=10000)\n",
    "ax=sns.displot(randomvarUniform,stat='frequency')"
   ]
  },
  {
   "cell_type": "code",
   "execution_count": 21,
   "id": "e6e7d9dd-14b4-42aa-aab0-d1b89dcbb619",
   "metadata": {},
   "outputs": [
    {
     "data": {
      "image/png": "[encoded data removed]",
      "text/plain": [
       "<Figure size 360x360 with 1 Axes>"
      ]
     },
     "metadata": {
      "needs_background": "light"
     },
     "output_type": "display_data"
    }
   ],
   "source": [
    "# let's see it as a probability plot\n",
    "# now can see the emperical probabilities of each outcome is around 0.16667\n",
    "ax=sns.displot(randomvarUniform,stat='probability')"
   ]
  },
  {
   "cell_type": "code",
   "execution_count": 22,
   "id": "b6e52f2d-ae7d-4163-bf1e-c0874e8f2889",
   "metadata": {},
   "outputs": [
    {
     "data": {
      "image/png": "[encoded data removed]",
      "text/plain": [
       "<Figure size 360x360 with 1 Axes>"
      ]
     },
     "metadata": {
      "needs_background": "light"
     },
     "output_type": "display_data"
    }
   ],
   "source": [
    "# Plotting the emperical cumuluative distribution function will show the cumulative probabilty up to a certain x\n",
    "ax=sns.displot(randomvarUniform,kind='ecdf')"
   ]
  },
  {
   "cell_type": "code",
   "execution_count": 23,
   "id": "30907eb6-0d4f-4ae4-989d-179caec57806",
   "metadata": {},
   "outputs": [
    {
     "name": "stdout",
     "output_type": "stream",
     "text": [
      "[0.16666667 0.16666667 0.16666667 0.16666667 0.16666667 0.16666667]\n"
     ]
    }
   ],
   "source": [
    "# now let's find and plot the theoretical prbability mass function (pmf) based on knowing the parametrs of the distribution\n",
    "n=6\n",
    "p=1/n\n",
    "x=np.arange(1,n+1)\n",
    "uniformDiscrete_pmf=randint.pmf(x,1,7)\n",
    "print(uniformDiscrete_pmf)"
   ]
  },
  {
   "cell_type": "code",
   "execution_count": 24,
   "id": "608a46ee-e2e8-485c-8e4f-95fa23ba1254",
   "metadata": {},
   "outputs": [],
   "source": [
    "# This is the same as finding the uniform discrete pmf of the nmbers 1,2,3,4,5,6 using the pmf formula:  PMF=1/n\n",
    "# now plot the pmf"
   ]
  },
  {
   "cell_type": "code",
   "execution_count": 25,
   "id": "35ae632e-4818-4f84-a719-bcfd898ea0c4",
   "metadata": {},
   "outputs": [
    {
     "data": {
      "text/plain": [
       "<matplotlib.collections.LineCollection at 0x1553569e760>"
      ]
     },
     "execution_count": 25,
     "metadata": {},
     "output_type": "execute_result"
    },
    {
     "data": {
      "image/png": "[encoded data removed]",
      "text/plain": [
       "<Figure size 432x288 with 1 Axes>"
      ]
     },
     "metadata": {
      "needs_background": "light"
     },
     "output_type": "display_data"
    }
   ],
   "source": [
    "plt.plot(x,uniformDiscrete_pmf,'ro',ms=15,alpha=0.5)\n",
    "plt.plot(x,uniformDiscrete_pmf,'r')\n",
    "plt.vlines(x,0,uniformDiscrete_pmf,color='r',linestyle='-',lw=10, alpha=.5)"
   ]
  },
  {
   "cell_type": "code",
   "execution_count": 26,
   "id": "47c6ef40-2856-49d5-abf3-95e90b38ab19",
   "metadata": {},
   "outputs": [
    {
     "data": {
      "text/plain": [
       "<matplotlib.collections.LineCollection at 0x15535715c70>"
      ]
     },
     "execution_count": 26,
     "metadata": {},
     "output_type": "execute_result"
    },
    {
     "data": {
      "image/png": "[encoded data removed]",
      "text/plain": [
       "<Figure size 360x360 with 1 Axes>"
      ]
     },
     "metadata": {
      "needs_background": "light"
     },
     "output_type": "display_data"
    }
   ],
   "source": [
    "# Let's show the probability distribution on the plot of the emperical probabilities\n",
    "randint_rvs=randint.rvs(1,7,size=10000)\n",
    "ax=sns.displot(randint_rvs,stat='probability')\n",
    "plt.plot(x,uniformDiscrete_pmf,'ro',ms=15,alpha=0.5)\n",
    "plt.plot(x,uniformDiscrete_pmf,'r')\n",
    "plt.vlines(x,0,uniformDiscrete_pmf,color='r',linestyle='-',lw=10, alpha=.5)"
   ]
  },
  {
   "cell_type": "code",
   "execution_count": null,
   "id": "0620fe40-be6a-4de0-b87c-77f480c53580",
   "metadata": {},
   "outputs": [],
   "source": []
  },
  {
   "cell_type": "code",
   "execution_count": 27,
   "id": "3dacbf4d-7526-4133-be8d-66bd3d7dd936",
   "metadata": {},
   "outputs": [],
   "source": [
    "# The cumulative distribution function shows the cumulative probability that X wil take on a value less than or equal to x\n",
    "# compute and plot the cdf of a uniform discrete distribution"
   ]
  },
  {
   "cell_type": "code",
   "execution_count": 28,
   "id": "b4e9261c-4f6d-43f7-847d-800669b5235e",
   "metadata": {},
   "outputs": [
    {
     "name": "stdout",
     "output_type": "stream",
     "text": [
      "[0.16666667 0.33333333 0.5        0.66666667 0.83333333 1.        ]\n"
     ]
    }
   ],
   "source": [
    "x=np.arange(1,n+1,1)\n",
    "uniformDiscrete_cdf=randint.cdf(x,1,7)\n",
    "print(uniformDiscrete_cdf)"
   ]
  },
  {
   "cell_type": "code",
   "execution_count": 29,
   "id": "d3b710b6-ebc0-44ed-82d9-d43bd2cdc95d",
   "metadata": {},
   "outputs": [
    {
     "data": {
      "text/plain": [
       "[<matplotlib.lines.Line2D at 0x155357bf070>]"
      ]
     },
     "execution_count": 29,
     "metadata": {},
     "output_type": "execute_result"
    },
    {
     "data": {
      "image/png": "[encoded data removed]",
      "text/plain": [
       "<Figure size 360x360 with 1 Axes>"
      ]
     },
     "metadata": {
      "needs_background": "light"
     },
     "output_type": "display_data"
    }
   ],
   "source": [
    "#  plot the cdf of the probabilites as a step function\n",
    "ax1=sns.displot(randomvarUniform,kind='ecdf')\n",
    "plt.hlines(0.5,0,6,linestyle=\":\")\n",
    "plt.vlines(3.5,0,1,linestyle=\":\")\n",
    "plt.plot(x,uniformDiscrete_cdf,'bo',ms=10)"
   ]
  },
  {
   "cell_type": "code",
   "execution_count": 30,
   "id": "ca90092c-b766-47a3-b813-00ee7ef07a5d",
   "metadata": {},
   "outputs": [
    {
     "data": {
      "text/plain": [
       "3.5"
      ]
     },
     "execution_count": 30,
     "metadata": {},
     "output_type": "execute_result"
    }
   ],
   "source": [
    "# expected value or mean of the distribution\n",
    "randint.mean(1,7)"
   ]
  },
  {
   "cell_type": "code",
   "execution_count": 31,
   "id": "23556c23-75ac-41f3-87a2-6d971c6d493f",
   "metadata": {},
   "outputs": [
    {
     "data": {
      "text/plain": [
       "3.0"
      ]
     },
     "execution_count": 31,
     "metadata": {},
     "output_type": "execute_result"
    }
   ],
   "source": [
    "# at what value x is 50% (0.5 of the total probability) accounted for?\n",
    "# What is the 50th percentile of this distribution?\n",
    "# q= percentile=0.5\n",
    "# ppf is percent point function (inverse of cdf)\n",
    "randint.ppf(0.5,1,7)"
   ]
  },
  {
   "cell_type": "code",
   "execution_count": 32,
   "id": "d3fd54ff-c19c-4c1f-9707-ac881a03dd8f",
   "metadata": {},
   "outputs": [
    {
     "data": {
      "text/plain": [
       "2.9166666666666665"
      ]
     },
     "execution_count": 32,
     "metadata": {},
     "output_type": "execute_result"
    }
   ],
   "source": [
    "# variance of the distribution\n",
    "randint.var(1,7)"
   ]
  },
  {
   "cell_type": "markdown",
   "id": "706cdb61-5b2d-4aff-af36-ad774e3e9a6a",
   "metadata": {},
   "source": [
    "# The binomial distribution\n",
    "Use the [binomial distribution from scipy stats](https://docs.scipy.org/doc/scipy/reference/generated/scipy.stats.binom.html).  binom takes the number of trials and the probability of a success as shape parameters, where p is the probability of a single success and 1-p is the probability of a single failure. Rember BINS."
   ]
  },
  {
   "cell_type": "code",
   "execution_count": 33,
   "id": "342b3459-0222-47c1-b7a1-699674865982",
   "metadata": {},
   "outputs": [
    {
     "data": {
      "image/png": "[encoded data removed]",
      "text/plain": [
       "<Figure size 360x360 with 1 Axes>"
      ]
     },
     "metadata": {
      "needs_background": "light"
     },
     "output_type": "display_data"
    }
   ],
   "source": [
    "from scipy.stats import binom\n",
    "# Let's generate some simulated data that follow a binomial distribution and plot the distibuion of this simulated data\n",
    "# we will say use n=3 and p=0.1 and simulate 10000 randon variables ~Binom(3,0.1)\n",
    "n=3\n",
    "p=0.1\n",
    "binomial_rvs=binom.rvs(n,p,size=10000)\n",
    "ax1=sns.displot(binomial_rvs,stat='probability')"
   ]
  },
  {
   "cell_type": "code",
   "execution_count": 398,
   "id": "90654ba9-6f37-4b9f-89ba-279458507cbd",
   "metadata": {},
   "outputs": [
    {
     "data": {
      "image/png": "[encoded data removed]",
      "text/plain": [
       "<Figure size 360x360 with 1 Axes>"
      ]
     },
     "metadata": {
      "needs_background": "light"
     },
     "output_type": "display_data"
    }
   ],
   "source": [
    "# Plotting the emperical cumuluative distribution function will show the cumulative probabilty up to a certain x\n",
    "ax1=sns.displot(binomial_rvs,kind='ecdf')"
   ]
  },
  {
   "cell_type": "code",
   "execution_count": 399,
   "id": "cad66f21-8323-413e-8750-bddb0203b6ed",
   "metadata": {},
   "outputs": [
    {
     "name": "stdout",
     "output_type": "stream",
     "text": [
      "[0.729 0.243 0.027 0.001]\n"
     ]
    }
   ],
   "source": [
    "# Now usng the theoretical probability distributions for stats.binom\n",
    "# Machine 1,2,3 are either working or not working, each machine independnetly has a 10% chance of being down\n",
    "# you can have {0,1,2,3} machines workinng or not working\n",
    "# We will work with this modeling the random variable x as a binomial probability distirbution\n",
    "# What is the probability of each of these numbers of working or not working machines? \n",
    "# What is the probability of k= the number of successes (let's define this as machine not working) that you get out of 3 machines running\n",
    "n=3\n",
    "p=0.1\n",
    "x=np.arange(0,n+1)\n",
    "binomial_pmf=binom.pmf(x,n,p)\n",
    "print(binomial_pmf)\n",
    "# the probabilities of having 0,1,2,3 successes"
   ]
  },
  {
   "cell_type": "code",
   "execution_count": 400,
   "id": "47417247-18bc-4348-bfe5-af82626b1011",
   "metadata": {},
   "outputs": [
    {
     "data": {
      "image/png": "[encoded data removed]",
      "text/plain": [
       "<Figure size 360x360 with 1 Axes>"
      ]
     },
     "metadata": {
      "needs_background": "light"
     },
     "output_type": "display_data"
    }
   ],
   "source": [
    "# plot the thoretical probabiities in red over the empircal probabilties in default blue\n",
    "binomial_rvs=binom.rvs(n,p,size=10000)\n",
    "ax1=sns.displot(binomial_rvs,stat='probability')\n",
    "ax2=plt.plot(x,binomial_pmf, 'ro',ms=10)\n",
    "ax3=plt.plot(x,binomial_pmf, 'r')"
   ]
  },
  {
   "cell_type": "code",
   "execution_count": 401,
   "id": "948368ea-f26b-4660-bab2-8030b72cac9d",
   "metadata": {},
   "outputs": [
    {
     "name": "stdout",
     "output_type": "stream",
     "text": [
      "[0.729 0.972 0.999 1.   ]\n"
     ]
    }
   ],
   "source": [
    "# find the cdf of the binomial distribution using the probability distribution parameters\n",
    "x=np.arange(0,n+1)\n",
    "binomial_cdf=binom.cdf(x,n,p)\n",
    "print(binomial_cdf)"
   ]
  },
  {
   "cell_type": "code",
   "execution_count": 402,
   "id": "8dbb41a7-90de-4deb-9afe-4fa4a24a53b2",
   "metadata": {},
   "outputs": [
    {
     "data": {
      "text/plain": [
       "<matplotlib.collections.LineCollection at 0x15188c14550>"
      ]
     },
     "execution_count": 402,
     "metadata": {},
     "output_type": "execute_result"
    },
    {
     "data": {
      "image/png": "[encoded data removed]",
      "text/plain": [
       "<Figure size 360x360 with 1 Axes>"
      ]
     },
     "metadata": {
      "needs_background": "light"
     },
     "output_type": "display_data"
    }
   ],
   "source": [
    "# Plotting the cdf points\n",
    "ax=sns.displot(binomial_rvs,kind='ecdf')\n",
    "ax=plt.plot(x,binomial_cdf, 'ro',ms=10)\n",
    "plt.hlines(0.5,0,3,linestyle=\":\")\n",
    "plt.vlines(0.3,0,1,linestyle=\":\")"
   ]
  },
  {
   "cell_type": "code",
   "execution_count": 403,
   "id": "fa6fef99-88c2-42b1-b4ba-82380bd306ba",
   "metadata": {},
   "outputs": [
    {
     "data": {
      "text/plain": [
       "0.30000000000000004"
      ]
     },
     "execution_count": 403,
     "metadata": {},
     "output_type": "execute_result"
    }
   ],
   "source": [
    "# expected value or mean of the distribution\n",
    "# n= 3, p = 0.10\n",
    "# for every 3 machines that are running, about 0.3 machines will not be working, on average\n",
    "binom.mean(n,p)"
   ]
  },
  {
   "cell_type": "code",
   "execution_count": null,
   "id": "6d50813f-aa53-48e5-aea1-96160c78c638",
   "metadata": {},
   "outputs": [],
   "source": []
  },
  {
   "cell_type": "code",
   "execution_count": 396,
   "id": "0770acc2-5d40-429b-9296-c5e448506190",
   "metadata": {},
   "outputs": [
    {
     "name": "stdout",
     "output_type": "stream",
     "text": [
      "[0 0 0 ... 0 0 0]\n"
     ]
    },
    {
     "data": {
      "text/plain": [
       "Text(0.5, 6.79999999999999, 'number of birthday matches= n')"
      ]
     },
     "execution_count": 396,
     "metadata": {},
     "output_type": "execute_result"
    },
    {
     "data": {
      "image/png": "[encoded data removed]",
      "text/plain": [
       "<Figure size 360x360 with 1 Axes>"
      ]
     },
     "metadata": {
      "needs_background": "light"
     },
     "output_type": "display_data"
    }
   ],
   "source": [
    "# Birthday problem binomial \n",
    "# 0 out of 5 at high prob\n",
    "# 1 out of 5 at low prob\n",
    "# more than 1 out of 5 very very small\n",
    "n=5\n",
    "p=0.0027\n",
    "binomial_rvsBD=binom.rvs(n,p,size=50000)\n",
    "ax1=sns.displot(binomial_rvsBD,stat='probability')\n",
    "print(binomial_rvsBD)\n",
    "plt.xlabel(\"number of birthday matches= n\")"
   ]
  },
  {
   "cell_type": "code",
   "execution_count": 372,
   "id": "3ac9bd16-2736-4049-9b5d-83b6ce882cbe",
   "metadata": {},
   "outputs": [
    {
     "name": "stdout",
     "output_type": "stream",
     "text": [
      "[9.86572703e-01 1.33547894e-02 7.23111029e-05 1.95768553e-07\n",
      " 2.65003055e-10 1.43489070e-13]\n"
     ]
    }
   ],
   "source": [
    "n=5\n",
    "x=np.arange(0,n+1)\n",
    "binomial_pmfBD=binom.pmf(x,n,0.0027)\n",
    "print(binomial_pmfBD)"
   ]
  },
  {
   "cell_type": "markdown",
   "id": "f0b32d76-68c1-4b0d-934d-869a11f40c21",
   "metadata": {},
   "source": [
    "P(no people out of 5 with same specific birthday) = 0.986\n",
    "\n",
    "P(at least 1 people with same specific birthday, n=1=number of matches) = 1 - 0.986 = 0.014\n",
    "\n",
    "This is a binomial distribution of the number of matches within a group size.  \n",
    "\n",
    "What is the probability of have exactly n=2 matches in a group of 5?"
   ]
  },
  {
   "cell_type": "markdown",
   "id": "27cfc429-fe68-48ee-8b22-41b3e6caa861",
   "metadata": {},
   "source": [
    "can use the Binomial distribution  \n",
    "PMF(x=k) = (n choose k) * p^k * q^(n-k) to model and calculate these"
   ]
  },
  {
   "cell_type": "code",
   "execution_count": 419,
   "id": "80afe12a-8288-438a-8d6b-ec76e6b0e784",
   "metadata": {},
   "outputs": [
    {
     "data": {
      "text/plain": [
       "7.231110288810927e-05"
      ]
     },
     "execution_count": 419,
     "metadata": {},
     "output_type": "execute_result"
    }
   ],
   "source": [
    "binom.pmf(2,5,.0027)"
   ]
  },
  {
   "cell_type": "code",
   "execution_count": 387,
   "id": "4044b339-56ef-4b3a-bc0e-1080762850df",
   "metadata": {},
   "outputs": [
    {
     "name": "stdout",
     "output_type": "stream",
     "text": [
      "[0.9865727  0.99992749 0.9999998  1.         1.         1.        ]\n"
     ]
    }
   ],
   "source": [
    "n=5\n",
    "x=np.arange(0,n+1)\n",
    "binomial_cdfBD=binom.cdf(x,n,0.0027)\n",
    "print(binomial_cdfBD)"
   ]
  },
  {
   "cell_type": "markdown",
   "id": "1660dfce-1c98-4ff8-8e36-f453aa2bd3aa",
   "metadata": {},
   "source": [
    "# The Poisson distribution\n",
    "Use the [Poisson distribution](https://docs.scipy.org/doc/scipy/reference/generated/scipy.stats.poisson.html). It is a discrete probability distribution that expresses the probability of a given number of events occurring in a fixed interval of time or space if these events occur with a known constant mean rate and independently of the time since the last event.The Poisson distribution can also be used for the number of events in other specified interval types such as distance, area or volume.  ~Pois(rate=lamda=$\\lambda$)   "
   ]
  },
  {
   "cell_type": "code",
   "execution_count": 266,
   "id": "fd51c9a6-6eb3-4e17-af72-5f93b60b5aaf",
   "metadata": {},
   "outputs": [
    {
     "data": {
      "image/png": "[encoded data removed]",
      "text/plain": [
       "<Figure size 360x360 with 1 Axes>"
      ]
     },
     "metadata": {
      "needs_background": "light"
     },
     "output_type": "display_data"
    }
   ],
   "source": [
    "from scipy.stats import poisson\n",
    "# first again we will look at simulating some data that follow a Poisson distribution\n",
    "rateA=2.3\n",
    "poisson_rvs=poisson.rvs(rateA,size=10000)\n",
    "ax1=sns.displot(poisson_rvs,stat='probability')"
   ]
  },
  {
   "cell_type": "markdown",
   "id": "67517dae-a429-420b-9f8f-7176ff5ecff5",
   "metadata": {},
   "source": [
    "Compare this with using the poisson distribution to find probabilities.  If we state that the rate = 2.3 deaths from typhoid fever over a 1-year period, when you assume that the underlying distribution for annual death from typhoid fever is a Poisson distribution, find the probabilitys of the number of deaths."
   ]
  },
  {
   "cell_type": "code",
   "execution_count": 267,
   "id": "3adf60fb-5c20-4f11-8c81-8663e54272d1",
   "metadata": {},
   "outputs": [
    {
     "name": "stdout",
     "output_type": "stream",
     "text": [
      "[0.10025884 0.23059534 0.26518464 0.20330823 0.11690223 0.05377503\n",
      " 0.02061376 0.00677309 0.00194726 0.00049763]\n"
     ]
    }
   ],
   "source": [
    "xPoisson=np.arange(0,10,1)\n",
    "poisson_pmf=poisson.pmf(xPoisson,rateA)\n",
    "print(poisson_pmf)\n",
    "# the probability of count of the number of deaths in 1 year"
   ]
  },
  {
   "cell_type": "code",
   "execution_count": 268,
   "id": "46971ec5-8072-4da2-a243-626ce3db9c69",
   "metadata": {},
   "outputs": [
    {
     "data": {
      "image/png": "[encoded data removed]",
      "text/plain": [
       "<Figure size 360x360 with 1 Axes>"
      ]
     },
     "metadata": {
      "needs_background": "light"
     },
     "output_type": "display_data"
    }
   ],
   "source": [
    "# plot the thoretical probabiities in red over the empircal probabilties in default blue\n",
    "poisson_rvs=poisson.rvs(rateA,size=10000)\n",
    "ax1=sns.displot(poisson_rvs,stat='probability')\n",
    "ax2=plt.plot(xPoisson,poisson_pmf, 'ro',ms=10)\n",
    "ax3=plt.plot(xPoisson,poisson_pmf, 'r')"
   ]
  },
  {
   "cell_type": "code",
   "execution_count": 269,
   "id": "c6d1c35f-4ab5-4f67-918b-9b44a3a4de27",
   "metadata": {},
   "outputs": [
    {
     "name": "stdout",
     "output_type": "stream",
     "text": [
      "0.20330822526255884\n"
     ]
    }
   ],
   "source": [
    "# Probability of x=3 deaths/year?\n",
    "poisson_pmf=poisson.pmf(3,rateA)\n",
    "print(poisson_pmf)"
   ]
  },
  {
   "cell_type": "code",
   "execution_count": 270,
   "id": "d7c1cfd4-05d2-4d43-9510-c3766d8feb7f",
   "metadata": {},
   "outputs": [
    {
     "name": "stdout",
     "output_type": "stream",
     "text": [
      "0.7993470511946271\n"
     ]
    }
   ],
   "source": [
    "# Probability less than some value\n",
    "# Probability of 3 or less deaths/year?\n",
    "P1=poisson.cdf(3,rateA)\n",
    "print(P1)"
   ]
  },
  {
   "cell_type": "markdown",
   "id": "e1a1c3f1-8958-4bba-9c69-26c7294840aa",
   "metadata": {},
   "source": [
    "From the above values of the pmf you can add these probabilities to get the same number [0.10025884 0.23059534 0.26518464 0.20330823 0.11690223 0.05377503, 0.02061376 0.00677309 0.00194726 0.00049763]"
   ]
  },
  {
   "cell_type": "code",
   "execution_count": 271,
   "id": "49e19a0f-88bd-48bd-8ec2-ffd4e2fc1277",
   "metadata": {},
   "outputs": [
    {
     "data": {
      "text/plain": [
       "0.7994"
      ]
     },
     "execution_count": 271,
     "metadata": {},
     "output_type": "execute_result"
    }
   ],
   "source": [
    "# P(3 or less deaths/year)\n",
    "0.1003+0.2306+0.2652+0.2033"
   ]
  },
  {
   "cell_type": "code",
   "execution_count": 272,
   "id": "47f8966d-43c2-439f-8a00-c44b9d953cd2",
   "metadata": {},
   "outputs": [
    {
     "name": "stdout",
     "output_type": "stream",
     "text": [
      "0.009361933891041896\n"
     ]
    }
   ],
   "source": [
    "# Probability greater than some value\n",
    "# Remember the first couple of laws of probabiity: all possible probabilities sum to 1 and the complement rule\n",
    "# What is the probability of havinng more than 6 deaths/year?\n",
    "P2=1-(poisson.cdf(6,rateA))\n",
    "print(P2)"
   ]
  },
  {
   "cell_type": "code",
   "execution_count": 281,
   "id": "8bdebf72-aac0-4003-8ea3-d0e2a446155f",
   "metadata": {},
   "outputs": [
    {
     "data": {
      "text/plain": [
       "0.00922"
      ]
     },
     "execution_count": 281,
     "metadata": {},
     "output_type": "execute_result"
    }
   ],
   "source": [
    "# can check by adding the pmf at x=7,8,9,10...\n",
    "0.00677+0.00195+0.0005"
   ]
  },
  {
   "cell_type": "code",
   "execution_count": null,
   "id": "1b677fe5-48f9-4fcc-830d-abcecde87687",
   "metadata": {},
   "outputs": [],
   "source": []
  }
 ],
 "metadata": {
  "kernelspec": {
   "display_name": "Python 3 (ipykernel)",
   "language": "python",
   "name": "python3"
  },
  "language_info": {
   "codemirror_mode": {
    "name": "ipython",
    "version": 3
   },
   "file_extension": ".py",
   "mimetype": "text/x-python",
   "name": "python",
   "nbconvert_exporter": "python",
   "pygments_lexer": "ipython3",
   "version": "3.9.13"
  }
 },
 "nbformat": 4,
 "nbformat_minor": 5
}
